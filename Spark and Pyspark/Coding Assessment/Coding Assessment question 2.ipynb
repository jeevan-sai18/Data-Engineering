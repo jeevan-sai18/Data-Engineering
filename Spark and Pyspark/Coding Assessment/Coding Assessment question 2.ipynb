{
 "cells": [
  {
   "cell_type": "code",
   "execution_count": 0,
   "metadata": {
    "application/vnd.databricks.v1+cell": {
     "cellMetadata": {
      "byteLimit": 2048000,
      "rowLimit": 10000
     },
     "inputWidgets": {},
     "nuid": "9bc97c61-425f-49ec-a959-9a94b95ed308",
     "showTitle": false,
     "title": ""
    }
   },
   "outputs": [],
   "source": [
    "import pyspark\n",
    "from pyspark.sql import SparkSession\n",
    "import pandas as pd\n",
    "spark = SparkSession.builder \\\n",
    "    .appName(\"SparkSQL Joins and Pandas Functions\") \\\n",
    "    .getOrCreate()"
   ]
  },
  {
   "cell_type": "code",
   "execution_count": 0,
   "metadata": {
    "application/vnd.databricks.v1+cell": {
     "cellMetadata": {
      "byteLimit": 2048000,
      "rowLimit": 10000
     },
     "inputWidgets": {},
     "nuid": "3fd42c47-e038-4cc8-b720-726e6b2d65ce",
     "showTitle": false,
     "title": ""
    }
   },
   "outputs": [
    {
     "output_type": "stream",
     "name": "stdout",
     "output_type": "stream",
     "text": [
      "+-------+---+\n|   name|age|\n+-------+---+\n|  Alice|  1|\n|    Bob|  2|\n|Charlie|  3|\n+-------+---+\n\n+-----+------+\n| name|salary|\n+-----+------+\n|Alice|    25|\n|  Bob|    30|\n|David|    35|\n+-----+------+\n\n"
     ]
    }
   ],
   "source": [
    "#Create Sample DataFrames in PySpark\n",
    "data1 = [(\"Alice\", 1), (\"Bob\", 2), (\"Charlie\", 3)]\n",
    "data2 = [(\"Alice\", 25), (\"Bob\", 30), (\"David\", 35)]\n",
    "\n",
    "df1 = spark.createDataFrame(data1, [\"name\", \"age\"])\n",
    "df2 = spark.createDataFrame(data2, [\"name\", \"salary\"])\n",
    "df1.show()\n",
    "df2.show()"
   ]
  },
  {
   "cell_type": "code",
   "execution_count": 0,
   "metadata": {
    "application/vnd.databricks.v1+cell": {
     "cellMetadata": {
      "byteLimit": 2048000,
      "rowLimit": 10000
     },
     "inputWidgets": {},
     "nuid": "ddce613e-ae59-460f-82fb-d4c6463fbb12",
     "showTitle": false,
     "title": ""
    }
   },
   "outputs": [
    {
     "output_type": "stream",
     "name": "stdout",
     "output_type": "stream",
     "text": [
      "+-----+---+------+\n| name|age|salary|\n+-----+---+------+\n|Alice|  1|    25|\n|  Bob|  2|    30|\n+-----+---+------+\n\n"
     ]
    }
   ],
   "source": [
    "# Perform Various Types of Joins\n",
    "# Inner Join\n",
    "inner_join_df = df1.join(df2, ['name'], 'inner')\n",
    "inner_join_df.show()"
   ]
  },
  {
   "cell_type": "code",
   "execution_count": 0,
   "metadata": {
    "application/vnd.databricks.v1+cell": {
     "cellMetadata": {
      "byteLimit": 2048000,
      "rowLimit": 10000
     },
     "inputWidgets": {},
     "nuid": "f9bfb2c3-64c2-4e8b-87d9-40857c77a019",
     "showTitle": false,
     "title": ""
    }
   },
   "outputs": [
    {
     "output_type": "stream",
     "name": "stdout",
     "output_type": "stream",
     "text": [
      "+-------+----+------+\n|   name| age|salary|\n+-------+----+------+\n|  Alice|   1|    25|\n|    Bob|   2|    30|\n|Charlie|   3|  NULL|\n|  David|NULL|    35|\n+-------+----+------+\n\n"
     ]
    }
   ],
   "source": [
    "# Outer Join\n",
    "outer_join_df = df1.join(df2, ['name'], 'outer')\n",
    "outer_join_df.show()"
   ]
  },
  {
   "cell_type": "code",
   "execution_count": 0,
   "metadata": {
    "application/vnd.databricks.v1+cell": {
     "cellMetadata": {
      "byteLimit": 2048000,
      "rowLimit": 10000
     },
     "inputWidgets": {},
     "nuid": "e0b44bbf-2fd2-4a64-8d02-4a9ee7be48c6",
     "showTitle": false,
     "title": ""
    }
   },
   "outputs": [
    {
     "output_type": "stream",
     "name": "stdout",
     "output_type": "stream",
     "text": [
      "+-------+---+------+\n|   name|age|salary|\n+-------+---+------+\n|  Alice|  1|    25|\n|    Bob|  2|    30|\n|Charlie|  3|  NULL|\n+-------+---+------+\n\n"
     ]
    }
   ],
   "source": [
    "# Left Join\n",
    "left_join_df = df1.join(df2, ['name'], 'left')\n",
    "left_join_df.show()"
   ]
  },
  {
   "cell_type": "code",
   "execution_count": 0,
   "metadata": {
    "application/vnd.databricks.v1+cell": {
     "cellMetadata": {
      "byteLimit": 2048000,
      "rowLimit": 10000
     },
     "inputWidgets": {},
     "nuid": "59875a93-3b7a-4d8f-a2de-1f3de06b7d0f",
     "showTitle": false,
     "title": ""
    }
   },
   "outputs": [
    {
     "output_type": "stream",
     "name": "stdout",
     "output_type": "stream",
     "text": [
      "+-----+----+------+\n| name| age|salary|\n+-----+----+------+\n|Alice|   1|    25|\n|  Bob|   2|    30|\n|David|NULL|    35|\n+-----+----+------+\n\n"
     ]
    }
   ],
   "source": [
    "# Right Join\n",
    "right_join_df = df1.join(df2, ['name'], 'right')\n",
    "right_join_df.show()"
   ]
  },
  {
   "cell_type": "code",
   "execution_count": 0,
   "metadata": {
    "application/vnd.databricks.v1+cell": {
     "cellMetadata": {
      "byteLimit": 2048000,
      "rowLimit": 10000
     },
     "inputWidgets": {},
     "nuid": "971b9e04-d446-45aa-a290-f55488c14799",
     "showTitle": false,
     "title": ""
    }
   },
   "outputs": [
    {
     "output_type": "stream",
     "name": "stdout",
     "output_type": "stream",
     "text": [
      "+-----+---+\n| name|age|\n+-----+---+\n|Alice|  1|\n|  Bob|  2|\n+-----+---+\n\n"
     ]
    }
   ],
   "source": [
    "# Left Semi Join\n",
    "left_semi_join_df = df1.join(df2, ['name'], 'left_semi')\n",
    "left_semi_join_df.show()"
   ]
  },
  {
   "cell_type": "code",
   "execution_count": 0,
   "metadata": {
    "application/vnd.databricks.v1+cell": {
     "cellMetadata": {
      "byteLimit": 2048000,
      "rowLimit": 10000
     },
     "inputWidgets": {},
     "nuid": "25ae6b5f-1c1f-4db1-835e-32809b56933b",
     "showTitle": false,
     "title": ""
    }
   },
   "outputs": [
    {
     "output_type": "stream",
     "name": "stdout",
     "output_type": "stream",
     "text": [
      "+-------+---+\n|   name|age|\n+-------+---+\n|Charlie|  3|\n+-------+---+\n\n"
     ]
    }
   ],
   "source": [
    "# Left Anti Join\n",
    "left_anti_join_df = df1.join(df2, ['name'], 'left_anti')\n",
    "left_anti_join_df.show()"
   ]
  },
  {
   "cell_type": "code",
   "execution_count": 0,
   "metadata": {
    "application/vnd.databricks.v1+cell": {
     "cellMetadata": {
      "byteLimit": 2048000,
      "rowLimit": 10000
     },
     "inputWidgets": {},
     "nuid": "99b6450f-b870-4ba4-a099-6f464a3f5998",
     "showTitle": false,
     "title": ""
    }
   },
   "outputs": [
    {
     "output_type": "stream",
     "name": "stdout",
     "output_type": "stream",
     "text": [
      "    name  age  salary age_group\n0  Alice    1      25     Young\n1    Bob    2      30     Young\n"
     ]
    }
   ],
   "source": [
    "# Convert PySpark DataFrame to Pandas DataFrame and Apply Function\n",
    "pandas_df = inner_join_df.toPandas()\n",
    "\n",
    "# Apply a function to a Pandas DataFrame column\n",
    "def age_group(age):\n",
    "    if age < 20:\n",
    "        return \"Young\"\n",
    "    elif age >= 20 and age < 40:\n",
    "        return \"Middle-aged\"\n",
    "    else:\n",
    "        return \"Elderly\"\n",
    "\n",
    "pandas_df['age_group'] = pandas_df['age'].apply(age_group)\n",
    "print(pandas_df)"
   ]
  }
 ],
 "metadata": {
  "application/vnd.databricks.v1+notebook": {
   "dashboards": [],
   "language": "python",
   "notebookMetadata": {
    "pythonIndentUnit": 4
   },
   "notebookName": "Coding Assessment question 2",
   "widgets": {}
  }
 },
 "nbformat": 4,
 "nbformat_minor": 0
}
