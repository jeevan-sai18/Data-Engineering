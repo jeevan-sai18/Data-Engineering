{
 "cells": [
  {
   "cell_type": "code",
   "execution_count": 0,
   "metadata": {
    "application/vnd.databricks.v1+cell": {
     "cellMetadata": {
      "byteLimit": 2048000,
      "rowLimit": 10000
     },
     "inputWidgets": {},
     "nuid": "16d76567-666e-4ba9-8b92-418a082a7335",
     "showTitle": false,
     "title": ""
    }
   },
   "outputs": [],
   "source": [
    "# create sparkSession"
   ]
  },
  {
   "cell_type": "code",
   "execution_count": 0,
   "metadata": {
    "application/vnd.databricks.v1+cell": {
     "cellMetadata": {
      "byteLimit": 2048000,
      "rowLimit": 10000
     },
     "inputWidgets": {},
     "nuid": "08bb12c9-3b9c-43d5-9a90-9e9225faae34",
     "showTitle": false,
     "title": ""
    }
   },
   "outputs": [],
   "source": [
    "from pyspark.sql import SparkSession"
   ]
  },
  {
   "cell_type": "code",
   "execution_count": 0,
   "metadata": {
    "application/vnd.databricks.v1+cell": {
     "cellMetadata": {
      "byteLimit": 2048000,
      "rowLimit": 10000
     },
     "inputWidgets": {},
     "nuid": "972e7517-e0d5-4618-a556-07fd250b402e",
     "showTitle": false,
     "title": ""
    }
   },
   "outputs": [],
   "source": [
    "spark = SparkSession.builder \\\n",
    "    .appName(\"Log_Analysis\") \\\n",
    "    .config(\"spark.some.config.option\", \"value\") \\\n",
    "    .getOrCreate()"
   ]
  },
  {
   "cell_type": "code",
   "execution_count": 0,
   "metadata": {
    "application/vnd.databricks.v1+cell": {
     "cellMetadata": {
      "byteLimit": 2048000,
      "rowLimit": 10000
     },
     "inputWidgets": {},
     "nuid": "4a666745-12d2-4039-ac7f-226d70983e14",
     "showTitle": false,
     "title": ""
    }
   },
   "outputs": [],
   "source": [
    "# write code to get data from azure storage to data bricks"
   ]
  },
  {
   "cell_type": "code",
   "execution_count": 0,
   "metadata": {
    "application/vnd.databricks.v1+cell": {
     "cellMetadata": {
      "byteLimit": 2048000,
      "rowLimit": 10000
     },
     "inputWidgets": {},
     "nuid": "e3a3c66d-1aa6-4d93-b8e8-d2b412a5e97d",
     "showTitle": false,
     "title": ""
    }
   },
   "outputs": [],
   "source": [
    "storage_acc_name= \"mycon2\"\n",
    "storage_acc_key= \"PSzPRZyHTj3FBVVdmKOSCYP9IT8MZzKRF1g3H3nyTuniIrBSJ10NjKgaHetUWLyKcatdWnqr7Wy3+AStOBJ4Yg==\"\n",
    "container= \"con2\""
   ]
  },
  {
   "cell_type": "code",
   "execution_count": 0,
   "metadata": {
    "application/vnd.databricks.v1+cell": {
     "cellMetadata": {
      "byteLimit": 2048000,
      "rowLimit": 10000
     },
     "inputWidgets": {},
     "nuid": "348537ca-5d6f-4c5b-9067-aff19271a1db",
     "showTitle": false,
     "title": ""
    }
   },
   "outputs": [],
   "source": [
    "spark.conf.set(f\"fs.azure.account.key.{storage_acc_name}.blob.core.windows.net\",storage_acc_key)"
   ]
  },
  {
   "cell_type": "code",
   "execution_count": 0,
   "metadata": {
    "application/vnd.databricks.v1+cell": {
     "cellMetadata": {
      "byteLimit": 2048000,
      "rowLimit": 10000
     },
     "inputWidgets": {},
     "nuid": "37f045ba-ec55-4d22-b227-dcff9f53c4fc",
     "showTitle": false,
     "title": ""
    }
   },
   "outputs": [
    {
     "output_type": "execute_result",
     "data": {
      "text/plain": [
       "[FileInfo(path='wasbs://con2@mycon2.blob.core.windows.net/log_data.csv', name='log_data.csv', size=33574, modificationTime=1709189578000)]"
      ]
     },
     "execution_count": 29,
     "metadata": {},
     "output_type": "execute_result"
    }
   ],
   "source": [
    "dbutils.fs.ls(f\"wasbs://{container}@{storage_acc_name}.blob.core.windows.net/\")"
   ]
  },
  {
   "cell_type": "code",
   "execution_count": 0,
   "metadata": {
    "application/vnd.databricks.v1+cell": {
     "cellMetadata": {
      "byteLimit": 2048000,
      "rowLimit": 10000
     },
     "inputWidgets": {},
     "nuid": "97a0095c-ec01-460d-b2ac-3bc23d68812b",
     "showTitle": false,
     "title": ""
    }
   },
   "outputs": [],
   "source": [
    "# loading data into databricks"
   ]
  },
  {
   "cell_type": "code",
   "execution_count": 0,
   "metadata": {
    "application/vnd.databricks.v1+cell": {
     "cellMetadata": {
      "byteLimit": 2048000,
      "rowLimit": 10000
     },
     "inputWidgets": {},
     "nuid": "a8de852a-9d6a-4b91-9312-737de05e12b0",
     "showTitle": false,
     "title": ""
    }
   },
   "outputs": [],
   "source": [
    "df=spark.read.csv(f\"wasbs://{container}@{storage_acc_name}.blob.core.windows.net/\",header=True, inferSchema=True)"
   ]
  },
  {
   "cell_type": "code",
   "execution_count": 0,
   "metadata": {
    "application/vnd.databricks.v1+cell": {
     "cellMetadata": {
      "byteLimit": 2048000,
      "rowLimit": 10000
     },
     "inputWidgets": {},
     "nuid": "46eb58c3-c3f6-40f7-9aa4-0741a87e56da",
     "showTitle": false,
     "title": ""
    }
   },
   "outputs": [
    {
     "output_type": "stream",
     "name": "stdout",
     "output_type": "stream",
     "text": [
      "+--------------------+---------------+--------------+-----------+----------+\n|           Timestamp|     IP Address|    User Agent|HTTP Status|Bytes Sent|\n+--------------------+---------------+--------------+-----------+----------+\n|2023-12-23 12:33:...| 192.168.252.73|UserAgent-5863|        404|      8989|\n|2023-03-14 07:00:...| 192.168.142.94|UserAgent-9655|        200|      4671|\n|2024-02-01 01:24:...|192.168.238.242|UserAgent-7686|        200|      2316|\n|2023-04-16 19:58:...| 192.168.61.130|UserAgent-6243|        500|      9813|\n|2024-02-11 16:13:...|192.168.133.229|UserAgent-6416|        200|      8081|\n|2023-07-01 08:43:...|192.168.156.144|UserAgent-3904|        404|       929|\n|2023-07-12 13:56:...| 192.168.190.45|UserAgent-2851|        200|      2709|\n|2023-06-17 18:06:...| 192.168.42.159|UserAgent-3907|        500|      2934|\n|2023-03-02 03:33:...| 192.168.203.85|UserAgent-6360|        200|      7955|\n|2023-08-12 04:58:...|192.168.206.168|UserAgent-7090|        200|      9166|\n+--------------------+---------------+--------------+-----------+----------+\nonly showing top 10 rows\n\n"
     ]
    }
   ],
   "source": [
    "df.show(10)"
   ]
  },
  {
   "cell_type": "code",
   "execution_count": 0,
   "metadata": {
    "application/vnd.databricks.v1+cell": {
     "cellMetadata": {
      "byteLimit": 2048000,
      "rowLimit": 10000
     },
     "inputWidgets": {},
     "nuid": "07091499-57db-40e9-9037-51681dda871d",
     "showTitle": false,
     "title": ""
    }
   },
   "outputs": [],
   "source": [
    "# Instead of explicitly specifying the full path every time to access the data, we can use mounting"
   ]
  },
  {
   "cell_type": "code",
   "execution_count": 0,
   "metadata": {
    "application/vnd.databricks.v1+cell": {
     "cellMetadata": {
      "byteLimit": 2048000,
      "rowLimit": 10000
     },
     "inputWidgets": {},
     "nuid": "1d887ba3-2616-481a-b940-ab986382325a",
     "showTitle": false,
     "title": ""
    }
   },
   "outputs": [
    {
     "output_type": "execute_result",
     "data": {
      "text/plain": [
       "True"
      ]
     },
     "execution_count": 35,
     "metadata": {},
     "output_type": "execute_result"
    }
   ],
   "source": [
    "storage_acc_name= \"mycon2\"\n",
    "storage_acc_key= \"PSzPRZyHTj3FBVVdmKOSCYP9IT8MZzKRF1g3H3nyTuniIrBSJ10NjKgaHetUWLyKcatdWnqr7Wy3+AStOBJ4Yg==\"\n",
    "container= \"con2\"\n",
    "\n",
    "dbutils.fs.mount(\n",
    "    source=f\"wasbs://{container}@{storage_acc_name}.blob.core.windows.net/\",\n",
    "    mount_point=\"/mnt/storage\",\n",
    "    extra_configs={f\"fs.azure.account.key.{storage_acc_name}.blob.core.windows.net\": storage_acc_key}\n",
    ")"
   ]
  },
  {
   "cell_type": "code",
   "execution_count": 0,
   "metadata": {
    "application/vnd.databricks.v1+cell": {
     "cellMetadata": {
      "byteLimit": 2048000,
      "rowLimit": 10000
     },
     "inputWidgets": {},
     "nuid": "ac5ef088-b5ff-4787-b44b-35bc26482e7f",
     "showTitle": false,
     "title": ""
    }
   },
   "outputs": [
    {
     "output_type": "execute_result",
     "data": {
      "text/plain": [
       "[MountInfo(mountPoint='/mnt/storage', source='wasbs://con2@mycon2.blob.core.windows.net/', encryptionType=''),\n",
       " MountInfo(mountPoint='/databricks-datasets', source='databricks-datasets', encryptionType=''),\n",
       " MountInfo(mountPoint='/Volumes', source='UnityCatalogVolumes', encryptionType=''),\n",
       " MountInfo(mountPoint='/databricks/mlflow-tracking', source='databricks/mlflow-tracking', encryptionType=''),\n",
       " MountInfo(mountPoint='/databricks-results', source='databricks-results', encryptionType=''),\n",
       " MountInfo(mountPoint='/databricks/mlflow-registry', source='databricks/mlflow-registry', encryptionType=''),\n",
       " MountInfo(mountPoint='/Volume', source='DbfsReserved', encryptionType=''),\n",
       " MountInfo(mountPoint='/volumes', source='DbfsReserved', encryptionType=''),\n",
       " MountInfo(mountPoint='/', source='DatabricksRoot', encryptionType=''),\n",
       " MountInfo(mountPoint='/volume', source='DbfsReserved', encryptionType='')]"
      ]
     },
     "execution_count": 37,
     "metadata": {},
     "output_type": "execute_result"
    }
   ],
   "source": [
    "dbutils.fs.mounts()"
   ]
  },
  {
   "cell_type": "code",
   "execution_count": 0,
   "metadata": {
    "application/vnd.databricks.v1+cell": {
     "cellMetadata": {
      "byteLimit": 2048000,
      "rowLimit": 10000
     },
     "inputWidgets": {},
     "nuid": "6a05140c-ac81-4674-9a1f-46002d900a2a",
     "showTitle": false,
     "title": ""
    }
   },
   "outputs": [],
   "source": [
    "df = spark.read.csv(\"/mnt/storage/log_data.csv\", header=True, inferSchema=True)"
   ]
  },
  {
   "cell_type": "code",
   "execution_count": 0,
   "metadata": {
    "application/vnd.databricks.v1+cell": {
     "cellMetadata": {
      "byteLimit": 2048000,
      "rowLimit": 10000
     },
     "inputWidgets": {},
     "nuid": "17a5eb9f-42ef-4907-8756-188594237c86",
     "showTitle": false,
     "title": ""
    }
   },
   "outputs": [
    {
     "output_type": "stream",
     "name": "stdout",
     "output_type": "stream",
     "text": [
      "+--------------------+---------------+--------------+-----------+----------+\n|           Timestamp|     IP Address|    User Agent|HTTP Status|Bytes Sent|\n+--------------------+---------------+--------------+-----------+----------+\n|2023-12-23 12:33:...| 192.168.252.73|UserAgent-5863|        404|      8989|\n|2023-03-14 07:00:...| 192.168.142.94|UserAgent-9655|        200|      4671|\n|2024-02-01 01:24:...|192.168.238.242|UserAgent-7686|        200|      2316|\n|2023-04-16 19:58:...| 192.168.61.130|UserAgent-6243|        500|      9813|\n|2024-02-11 16:13:...|192.168.133.229|UserAgent-6416|        200|      8081|\n|2023-07-01 08:43:...|192.168.156.144|UserAgent-3904|        404|       929|\n|2023-07-12 13:56:...| 192.168.190.45|UserAgent-2851|        200|      2709|\n|2023-06-17 18:06:...| 192.168.42.159|UserAgent-3907|        500|      2934|\n|2023-03-02 03:33:...| 192.168.203.85|UserAgent-6360|        200|      7955|\n|2023-08-12 04:58:...|192.168.206.168|UserAgent-7090|        200|      9166|\n+--------------------+---------------+--------------+-----------+----------+\nonly showing top 10 rows\n\n"
     ]
    }
   ],
   "source": [
    "df.show(10)"
   ]
  },
  {
   "cell_type": "code",
   "execution_count": 0,
   "metadata": {
    "application/vnd.databricks.v1+cell": {
     "cellMetadata": {
      "byteLimit": 2048000,
      "rowLimit": 10000
     },
     "inputWidgets": {},
     "nuid": "85aaab2d-2a25-4db9-87e1-6f58e0a199c7",
     "showTitle": false,
     "title": ""
    }
   },
   "outputs": [
    {
     "output_type": "stream",
     "name": "stdout",
     "output_type": "stream",
     "text": [
      "root\n |-- Timestamp: timestamp (nullable = true)\n |-- IP Address: string (nullable = true)\n |-- User Agent: string (nullable = true)\n |-- HTTP Status: integer (nullable = true)\n |-- Bytes Sent: integer (nullable = true)\n\n"
     ]
    }
   ],
   "source": [
    "df.printSchema()"
   ]
  },
  {
   "cell_type": "code",
   "execution_count": 0,
   "metadata": {
    "application/vnd.databricks.v1+cell": {
     "cellMetadata": {
      "byteLimit": 2048000,
      "rowLimit": 10000
     },
     "inputWidgets": {},
     "nuid": "d7828573-bbf9-4cfa-a003-643622903666",
     "showTitle": false,
     "title": ""
    }
   },
   "outputs": [
    {
     "output_type": "display_data",
     "data": {
      "text/html": [
       "<style scoped>\n",
       "  .table-result-container {\n",
       "    max-height: 300px;\n",
       "    overflow: auto;\n",
       "  }\n",
       "  table, th, td {\n",
       "    border: 1px solid black;\n",
       "    border-collapse: collapse;\n",
       "  }\n",
       "  th, td {\n",
       "    padding: 5px;\n",
       "  }\n",
       "  th {\n",
       "    text-align: left;\n",
       "  }\n",
       "</style><div class='table-result-container'><table class='table-result'><thead style='background-color: white'><tr><th>Timestamp</th><th>IP Address</th><th>User Agent</th><th>HTTP Status</th><th>Bytes Sent</th></tr></thead><tbody><tr><td>2023-12-23T12:33:28.710082Z</td><td>192.168.252.73</td><td>UserAgent-5863</td><td>404</td><td>8989</td></tr><tr><td>2023-03-14T07:00:28.710082Z</td><td>192.168.142.94</td><td>UserAgent-9655</td><td>200</td><td>4671</td></tr><tr><td>2024-02-01T01:24:11.710082Z</td><td>192.168.238.242</td><td>UserAgent-7686</td><td>200</td><td>2316</td></tr><tr><td>2023-04-16T19:58:21.710082Z</td><td>192.168.61.130</td><td>UserAgent-6243</td><td>500</td><td>9813</td></tr><tr><td>2024-02-11T16:13:27.710082Z</td><td>192.168.133.229</td><td>UserAgent-6416</td><td>200</td><td>8081</td></tr><tr><td>2023-07-01T08:43:59.710082Z</td><td>192.168.156.144</td><td>UserAgent-3904</td><td>404</td><td>929</td></tr><tr><td>2023-07-12T13:56:11.710082Z</td><td>192.168.190.45</td><td>UserAgent-2851</td><td>200</td><td>2709</td></tr><tr><td>2023-06-17T18:06:36.710082Z</td><td>192.168.42.159</td><td>UserAgent-3907</td><td>500</td><td>2934</td></tr><tr><td>2023-03-02T03:33:53.710082Z</td><td>192.168.203.85</td><td>UserAgent-6360</td><td>200</td><td>7955</td></tr><tr><td>2023-08-12T04:58:15.710082Z</td><td>192.168.206.168</td><td>UserAgent-7090</td><td>200</td><td>9166</td></tr><tr><td>2023-08-28T14:28:00.710082Z</td><td>192.168.181.5</td><td>UserAgent-9699</td><td>500</td><td>7709</td></tr><tr><td>2023-07-02T23:40:12.710082Z</td><td>192.168.46.60</td><td>UserAgent-9609</td><td>404</td><td>7166</td></tr><tr><td>2023-03-05T19:47:50.710082Z</td><td>192.168.31.163</td><td>UserAgent-7616</td><td>200</td><td>2908</td></tr><tr><td>2023-10-08T11:23:19.710082Z</td><td>192.168.66.22</td><td>UserAgent-7530</td><td>200</td><td>433</td></tr><tr><td>2023-06-06T03:05:36.710082Z</td><td>192.168.156.34</td><td>UserAgent-3585</td><td>500</td><td>9439</td></tr><tr><td>2023-11-10T14:50:35.710082Z</td><td>192.168.199.209</td><td>UserAgent-6046</td><td>200</td><td>5651</td></tr><tr><td>2023-12-28T17:38:01.710082Z</td><td>192.168.43.222</td><td>UserAgent-3349</td><td>500</td><td>2626</td></tr><tr><td>2023-11-13T16:01:16.710082Z</td><td>192.168.111.82</td><td>UserAgent-8245</td><td>500</td><td>4937</td></tr><tr><td>2023-04-29T09:28:24.710082Z</td><td>192.168.219.88</td><td>UserAgent-6159</td><td>200</td><td>750</td></tr><tr><td>2023-09-06T02:14:35.710082Z</td><td>192.168.31.183</td><td>UserAgent-9817</td><td>200</td><td>6819</td></tr><tr><td>2023-12-27T06:07:26.710082Z</td><td>192.168.69.119</td><td>UserAgent-9703</td><td>500</td><td>6140</td></tr><tr><td>2023-06-06T13:49:53.710082Z</td><td>192.168.253.0</td><td>UserAgent-1606</td><td>500</td><td>6805</td></tr><tr><td>2024-01-27T09:05:56.710082Z</td><td>192.168.104.252</td><td>UserAgent-5301</td><td>200</td><td>2813</td></tr><tr><td>2023-12-13T13:08:09.710082Z</td><td>192.168.125.11</td><td>UserAgent-3939</td><td>500</td><td>1406</td></tr><tr><td>2024-01-13T21:34:55.710082Z</td><td>192.168.68.220</td><td>UserAgent-9309</td><td>200</td><td>8040</td></tr><tr><td>2024-02-07T08:57:07.710082Z</td><td>192.168.140.104</td><td>UserAgent-4688</td><td>200</td><td>6594</td></tr><tr><td>2023-03-07T23:12:25.710082Z</td><td>192.168.234.44</td><td>UserAgent-9369</td><td>200</td><td>5130</td></tr><tr><td>2023-12-16T05:17:59.710082Z</td><td>192.168.95.19</td><td>UserAgent-6222</td><td>500</td><td>118</td></tr><tr><td>2023-10-14T03:34:12.710082Z</td><td>192.168.106.42</td><td>UserAgent-6103</td><td>200</td><td>7565</td></tr><tr><td>2023-08-06T08:27:06.710082Z</td><td>192.168.149.55</td><td>UserAgent-1300</td><td>404</td><td>3688</td></tr><tr><td>2023-06-10T00:10:05.710082Z</td><td>192.168.242.250</td><td>UserAgent-8243</td><td>200</td><td>6483</td></tr><tr><td>2023-08-15T02:38:43.710082Z</td><td>192.168.113.101</td><td>UserAgent-1439</td><td>404</td><td>8877</td></tr><tr><td>2023-03-14T09:46:55.710082Z</td><td>192.168.243.92</td><td>UserAgent-5296</td><td>500</td><td>5389</td></tr><tr><td>2023-10-07T19:19:40.710082Z</td><td>192.168.19.52</td><td>UserAgent-7066</td><td>200</td><td>5348</td></tr><tr><td>2023-07-25T05:15:50.710082Z</td><td>192.168.23.96</td><td>UserAgent-6157</td><td>500</td><td>7992</td></tr><tr><td>2023-10-18T09:41:47.710082Z</td><td>192.168.239.25</td><td>UserAgent-3945</td><td>404</td><td>7109</td></tr><tr><td>2023-10-23T11:05:59.710082Z</td><td>192.168.88.152</td><td>UserAgent-2604</td><td>404</td><td>2455</td></tr><tr><td>2023-09-12T06:05:00.710082Z</td><td>192.168.230.107</td><td>UserAgent-5734</td><td>500</td><td>8899</td></tr><tr><td>2023-09-27T10:10:52.710082Z</td><td>192.168.160.24</td><td>UserAgent-9935</td><td>404</td><td>7212</td></tr><tr><td>2023-09-19T04:39:24.710082Z</td><td>192.168.175.71</td><td>UserAgent-4855</td><td>500</td><td>5731</td></tr><tr><td>2023-04-25T21:54:51.710082Z</td><td>192.168.244.175</td><td>UserAgent-9108</td><td>404</td><td>8399</td></tr><tr><td>2023-09-22T16:17:24.710082Z</td><td>192.168.121.225</td><td>UserAgent-5002</td><td>200</td><td>758</td></tr><tr><td>2023-09-14T17:03:51.710082Z</td><td>192.168.114.160</td><td>UserAgent-5964</td><td>404</td><td>3604</td></tr><tr><td>2023-12-20T18:20:37.710082Z</td><td>192.168.181.190</td><td>UserAgent-9163</td><td>404</td><td>9311</td></tr><tr><td>2024-01-04T09:47:27.710082Z</td><td>192.168.130.114</td><td>UserAgent-4407</td><td>404</td><td>421</td></tr><tr><td>2023-06-30T23:33:44.710082Z</td><td>192.168.62.163</td><td>UserAgent-3979</td><td>404</td><td>3860</td></tr><tr><td>2024-01-05T16:35:10.710082Z</td><td>192.168.221.16</td><td>UserAgent-5251</td><td>500</td><td>7801</td></tr><tr><td>2023-10-12T00:21:14.710082Z</td><td>192.168.93.27</td><td>UserAgent-7237</td><td>500</td><td>1354</td></tr><tr><td>2024-01-05T13:15:56.710082Z</td><td>192.168.96.51</td><td>UserAgent-7555</td><td>500</td><td>4923</td></tr><tr><td>2023-10-18T12:09:13.710082Z</td><td>192.168.228.131</td><td>UserAgent-5740</td><td>500</td><td>5483</td></tr><tr><td>2023-03-12T23:34:32.710082Z</td><td>192.168.131.50</td><td>UserAgent-9584</td><td>200</td><td>2750</td></tr><tr><td>2023-03-17T22:21:22.710082Z</td><td>192.168.209.16</td><td>UserAgent-8213</td><td>200</td><td>4321</td></tr><tr><td>2023-10-23T02:13:58.710082Z</td><td>192.168.228.88</td><td>UserAgent-2988</td><td>500</td><td>2787</td></tr><tr><td>2023-07-27T06:39:43.710082Z</td><td>192.168.45.78</td><td>UserAgent-9419</td><td>200</td><td>803</td></tr><tr><td>2023-11-17T17:41:33.710082Z</td><td>192.168.42.66</td><td>UserAgent-5107</td><td>500</td><td>3116</td></tr><tr><td>2023-04-06T15:25:59.710082Z</td><td>192.168.245.187</td><td>UserAgent-7211</td><td>404</td><td>9641</td></tr><tr><td>2023-10-22T10:28:25.710082Z</td><td>192.168.113.15</td><td>UserAgent-6373</td><td>500</td><td>5674</td></tr><tr><td>2023-12-23T00:09:13.710082Z</td><td>192.168.78.101</td><td>UserAgent-2253</td><td>200</td><td>2781</td></tr><tr><td>2023-08-04T03:57:29.710082Z</td><td>192.168.172.231</td><td>UserAgent-8880</td><td>500</td><td>9852</td></tr><tr><td>2024-01-28T00:49:45.710082Z</td><td>192.168.124.69</td><td>UserAgent-2196</td><td>404</td><td>7893</td></tr><tr><td>2023-07-16T18:12:29.710082Z</td><td>192.168.97.140</td><td>UserAgent-5518</td><td>200</td><td>4700</td></tr><tr><td>2023-11-16T04:16:15.710082Z</td><td>192.168.57.218</td><td>UserAgent-7075</td><td>200</td><td>9836</td></tr><tr><td>2023-11-22T01:04:05.710082Z</td><td>192.168.69.240</td><td>UserAgent-2613</td><td>404</td><td>5466</td></tr><tr><td>2024-02-11T12:36:31.710082Z</td><td>192.168.92.147</td><td>UserAgent-4123</td><td>200</td><td>5668</td></tr><tr><td>2023-10-10T01:59:07.710082Z</td><td>192.168.173.240</td><td>UserAgent-8780</td><td>500</td><td>8361</td></tr><tr><td>2023-05-02T00:08:35.710082Z</td><td>192.168.100.208</td><td>UserAgent-7523</td><td>404</td><td>8845</td></tr><tr><td>2023-04-26T06:04:22.710082Z</td><td>192.168.18.207</td><td>UserAgent-1406</td><td>500</td><td>703</td></tr><tr><td>2023-05-17T16:54:40.710082Z</td><td>192.168.206.211</td><td>UserAgent-4129</td><td>404</td><td>5437</td></tr><tr><td>2023-03-02T13:07:44.710082Z</td><td>192.168.248.143</td><td>UserAgent-1689</td><td>404</td><td>7830</td></tr><tr><td>2023-07-09T04:05:29.710082Z</td><td>192.168.13.253</td><td>UserAgent-6184</td><td>200</td><td>2064</td></tr><tr><td>2023-03-27T20:49:31.710082Z</td><td>192.168.168.101</td><td>UserAgent-2971</td><td>500</td><td>6387</td></tr><tr><td>2023-11-06T19:08:38.710082Z</td><td>192.168.181.245</td><td>UserAgent-9213</td><td>200</td><td>1926</td></tr><tr><td>2023-09-18T04:33:40.710082Z</td><td>192.168.68.252</td><td>UserAgent-7932</td><td>500</td><td>8728</td></tr><tr><td>2023-05-12T18:31:07.710082Z</td><td>192.168.234.70</td><td>UserAgent-1027</td><td>500</td><td>377</td></tr><tr><td>2023-06-12T04:45:58.710082Z</td><td>192.168.135.83</td><td>UserAgent-2354</td><td>200</td><td>5855</td></tr><tr><td>2024-01-19T12:32:19.710082Z</td><td>192.168.24.188</td><td>UserAgent-2462</td><td>200</td><td>6114</td></tr><tr><td>2023-09-20T13:55:40.710082Z</td><td>192.168.21.36</td><td>UserAgent-5182</td><td>200</td><td>9797</td></tr><tr><td>2023-08-02T06:34:36.710082Z</td><td>192.168.133.39</td><td>UserAgent-4489</td><td>404</td><td>2846</td></tr><tr><td>2023-09-16T21:20:46.710082Z</td><td>192.168.128.229</td><td>UserAgent-5049</td><td>500</td><td>950</td></tr><tr><td>2023-09-18T14:03:21.710082Z</td><td>192.168.57.223</td><td>UserAgent-5616</td><td>404</td><td>8374</td></tr><tr><td>2024-02-14T11:44:06.710082Z</td><td>192.168.27.186</td><td>UserAgent-3482</td><td>404</td><td>9990</td></tr><tr><td>2023-10-17T10:04:04.710082Z</td><td>192.168.236.252</td><td>UserAgent-3286</td><td>500</td><td>356</td></tr><tr><td>2023-03-29T03:43:44.710082Z</td><td>192.168.240.62</td><td>UserAgent-3154</td><td>200</td><td>2504</td></tr><tr><td>2023-09-10T12:34:54.710082Z</td><td>192.168.0.91</td><td>UserAgent-1614</td><td>404</td><td>5443</td></tr><tr><td>2023-10-11T12:33:36.710082Z</td><td>192.168.250.21</td><td>UserAgent-4085</td><td>404</td><td>6301</td></tr><tr><td>2023-07-10T04:01:07.710082Z</td><td>192.168.67.57</td><td>UserAgent-1348</td><td>404</td><td>9712</td></tr><tr><td>2023-07-21T08:18:16.710082Z</td><td>192.168.39.203</td><td>UserAgent-8343</td><td>200</td><td>3311</td></tr><tr><td>2024-01-13T15:01:27.710082Z</td><td>192.168.77.105</td><td>UserAgent-6424</td><td>404</td><td>1432</td></tr><tr><td>2023-12-15T19:11:12.710082Z</td><td>192.168.195.212</td><td>UserAgent-5355</td><td>404</td><td>9001</td></tr><tr><td>2023-07-02T21:14:35.710082Z</td><td>192.168.116.222</td><td>UserAgent-6975</td><td>500</td><td>7751</td></tr><tr><td>2023-11-23T22:59:44.710082Z</td><td>192.168.199.193</td><td>UserAgent-8014</td><td>404</td><td>8702</td></tr><tr><td>2023-04-30T16:14:16.710082Z</td><td>192.168.171.18</td><td>UserAgent-1712</td><td>404</td><td>2793</td></tr><tr><td>2023-05-18T18:05:39.710082Z</td><td>192.168.199.216</td><td>UserAgent-6103</td><td>200</td><td>9795</td></tr><tr><td>2023-06-17T06:53:58.710082Z</td><td>192.168.249.184</td><td>UserAgent-3030</td><td>200</td><td>8661</td></tr><tr><td>2024-01-03T22:09:13.710082Z</td><td>192.168.28.173</td><td>UserAgent-4969</td><td>404</td><td>9702</td></tr><tr><td>2024-02-19T13:58:24.710082Z</td><td>192.168.133.120</td><td>UserAgent-5400</td><td>404</td><td>3293</td></tr><tr><td>2023-11-25T16:48:52.710082Z</td><td>192.168.112.224</td><td>UserAgent-1252</td><td>404</td><td>2283</td></tr><tr><td>2023-04-03T16:59:48.710082Z</td><td>192.168.222.227</td><td>UserAgent-1714</td><td>500</td><td>8521</td></tr><tr><td>2023-06-09T14:11:14.710082Z</td><td>192.168.2.205</td><td>UserAgent-9006</td><td>200</td><td>3685</td></tr><tr><td>2024-01-18T05:28:54.710082Z</td><td>192.168.31.101</td><td>UserAgent-8784</td><td>500</td><td>4162</td></tr><tr><td>2023-05-10T22:26:05.710082Z</td><td>192.168.185.167</td><td>UserAgent-9453</td><td>500</td><td>5498</td></tr><tr><td>2023-06-06T15:45:22.710082Z</td><td>192.168.211.202</td><td>UserAgent-5098</td><td>200</td><td>1473</td></tr><tr><td>2023-08-23T00:38:34.710082Z</td><td>192.168.111.190</td><td>UserAgent-9113</td><td>500</td><td>5789</td></tr><tr><td>2023-09-04T21:04:46.710082Z</td><td>192.168.155.154</td><td>UserAgent-6667</td><td>404</td><td>4374</td></tr><tr><td>2023-09-14T23:41:33.710082Z</td><td>192.168.130.146</td><td>UserAgent-1357</td><td>500</td><td>7438</td></tr><tr><td>2023-09-01T16:58:17.710082Z</td><td>192.168.165.117</td><td>UserAgent-5768</td><td>404</td><td>5782</td></tr><tr><td>2024-02-16T13:43:27.710082Z</td><td>192.168.124.77</td><td>UserAgent-4709</td><td>500</td><td>3695</td></tr><tr><td>2024-02-02T08:41:05.710082Z</td><td>192.168.199.78</td><td>UserAgent-8012</td><td>404</td><td>241</td></tr><tr><td>2023-08-01T09:35:43.710082Z</td><td>192.168.241.181</td><td>UserAgent-1805</td><td>200</td><td>5677</td></tr><tr><td>2024-02-10T09:29:13.710082Z</td><td>192.168.69.49</td><td>UserAgent-6574</td><td>500</td><td>171</td></tr><tr><td>2024-01-12T14:40:43.710082Z</td><td>192.168.135.211</td><td>UserAgent-7482</td><td>500</td><td>9928</td></tr><tr><td>2023-10-08T22:30:33.710082Z</td><td>192.168.65.215</td><td>UserAgent-8885</td><td>404</td><td>1076</td></tr><tr><td>2023-05-20T14:12:39.710082Z</td><td>192.168.215.12</td><td>UserAgent-7216</td><td>500</td><td>3025</td></tr><tr><td>2023-12-31T23:33:07.710082Z</td><td>192.168.112.38</td><td>UserAgent-6143</td><td>404</td><td>1351</td></tr><tr><td>2023-08-19T02:36:38.710082Z</td><td>192.168.131.192</td><td>UserAgent-7019</td><td>200</td><td>5416</td></tr><tr><td>2023-05-12T18:09:03.710082Z</td><td>192.168.198.20</td><td>UserAgent-5816</td><td>200</td><td>7274</td></tr><tr><td>2023-09-24T03:05:17.710082Z</td><td>192.168.159.172</td><td>UserAgent-9895</td><td>200</td><td>5195</td></tr><tr><td>2023-07-07T19:22:36.710082Z</td><td>192.168.155.53</td><td>UserAgent-6799</td><td>200</td><td>4090</td></tr><tr><td>2024-01-02T12:51:23.710082Z</td><td>192.168.93.114</td><td>UserAgent-4592</td><td>200</td><td>9915</td></tr><tr><td>2023-05-06T19:29:06.710082Z</td><td>192.168.115.255</td><td>UserAgent-7508</td><td>404</td><td>4283</td></tr><tr><td>2023-10-02T09:20:39.710082Z</td><td>192.168.23.28</td><td>UserAgent-9211</td><td>404</td><td>2368</td></tr><tr><td>2023-09-16T08:43:19.710082Z</td><td>192.168.136.146</td><td>UserAgent-9492</td><td>500</td><td>4802</td></tr><tr><td>2024-02-18T08:43:58.710082Z</td><td>192.168.225.93</td><td>UserAgent-9688</td><td>200</td><td>4447</td></tr><tr><td>2024-02-09T16:54:16.710082Z</td><td>192.168.187.46</td><td>UserAgent-9082</td><td>200</td><td>2807</td></tr><tr><td>2023-12-21T12:20:56.710082Z</td><td>192.168.95.113</td><td>UserAgent-7292</td><td>404</td><td>7804</td></tr><tr><td>2023-04-22T09:16:07.710082Z</td><td>192.168.62.22</td><td>UserAgent-3445</td><td>500</td><td>233</td></tr><tr><td>2023-05-02T15:20:22.710082Z</td><td>192.168.69.251</td><td>UserAgent-6663</td><td>200</td><td>9605</td></tr><tr><td>2024-02-07T05:11:51.710082Z</td><td>192.168.75.254</td><td>UserAgent-2381</td><td>404</td><td>3837</td></tr><tr><td>2023-12-10T07:03:18.710082Z</td><td>192.168.62.201</td><td>UserAgent-2611</td><td>200</td><td>4770</td></tr><tr><td>2023-09-05T14:12:31.710082Z</td><td>192.168.236.49</td><td>UserAgent-8856</td><td>200</td><td>7276</td></tr><tr><td>2023-12-02T13:28:36.710082Z</td><td>192.168.245.202</td><td>UserAgent-1185</td><td>500</td><td>6622</td></tr><tr><td>2023-11-03T04:10:25.710082Z</td><td>192.168.149.92</td><td>UserAgent-9723</td><td>200</td><td>8847</td></tr><tr><td>2023-03-24T16:52:53.710082Z</td><td>192.168.246.22</td><td>UserAgent-3177</td><td>404</td><td>8286</td></tr><tr><td>2023-07-15T00:12:12.710082Z</td><td>192.168.176.71</td><td>UserAgent-2218</td><td>500</td><td>2480</td></tr><tr><td>2024-02-09T17:09:50.710082Z</td><td>192.168.8.190</td><td>UserAgent-1203</td><td>200</td><td>6931</td></tr><tr><td>2023-06-10T06:15:08.710082Z</td><td>192.168.34.62</td><td>UserAgent-3056</td><td>200</td><td>6366</td></tr><tr><td>2023-05-23T03:23:52.710082Z</td><td>192.168.153.93</td><td>UserAgent-2920</td><td>404</td><td>1605</td></tr><tr><td>2023-09-28T19:04:11.710082Z</td><td>192.168.191.8</td><td>UserAgent-3697</td><td>404</td><td>8029</td></tr><tr><td>2023-05-20T20:56:31.710082Z</td><td>192.168.89.236</td><td>UserAgent-1087</td><td>404</td><td>2354</td></tr><tr><td>2023-10-04T06:00:59.710082Z</td><td>192.168.148.180</td><td>UserAgent-2740</td><td>200</td><td>1327</td></tr><tr><td>2023-10-03T18:03:21.710082Z</td><td>192.168.109.121</td><td>UserAgent-8572</td><td>200</td><td>6182</td></tr><tr><td>2023-03-24T02:12:39.710082Z</td><td>192.168.124.17</td><td>UserAgent-3030</td><td>404</td><td>945</td></tr><tr><td>2023-08-13T10:44:42.710082Z</td><td>192.168.160.247</td><td>UserAgent-5697</td><td>500</td><td>7584</td></tr><tr><td>2023-07-13T10:14:58.710082Z</td><td>192.168.176.226</td><td>UserAgent-4597</td><td>500</td><td>630</td></tr><tr><td>2023-12-05T01:41:42.710082Z</td><td>192.168.190.80</td><td>UserAgent-7065</td><td>200</td><td>8658</td></tr><tr><td>2023-03-21T19:32:46.710082Z</td><td>192.168.164.42</td><td>UserAgent-5697</td><td>404</td><td>8818</td></tr><tr><td>2024-02-19T12:14:43.710082Z</td><td>192.168.237.164</td><td>UserAgent-5891</td><td>200</td><td>3276</td></tr><tr><td>2023-11-21T12:00:07.710082Z</td><td>192.168.236.176</td><td>UserAgent-8443</td><td>404</td><td>9506</td></tr><tr><td>2023-08-24T01:06:06.710082Z</td><td>192.168.235.18</td><td>UserAgent-3564</td><td>200</td><td>2893</td></tr><tr><td>2024-01-26T16:51:17.710082Z</td><td>192.168.115.171</td><td>UserAgent-9352</td><td>500</td><td>2672</td></tr><tr><td>2023-08-24T14:50:26.710082Z</td><td>192.168.65.104</td><td>UserAgent-5519</td><td>200</td><td>4525</td></tr><tr><td>2023-05-22T19:54:14.710082Z</td><td>192.168.56.22</td><td>UserAgent-9262</td><td>200</td><td>8221</td></tr><tr><td>2023-09-30T18:02:14.710082Z</td><td>192.168.68.229</td><td>UserAgent-8851</td><td>200</td><td>6110</td></tr><tr><td>2023-08-28T10:51:05.710082Z</td><td>192.168.115.32</td><td>UserAgent-1014</td><td>200</td><td>6105</td></tr><tr><td>2023-05-28T22:55:39.710082Z</td><td>192.168.177.23</td><td>UserAgent-9347</td><td>200</td><td>8891</td></tr><tr><td>2024-01-10T03:19:05.710082Z</td><td>192.168.21.121</td><td>UserAgent-2880</td><td>500</td><td>2075</td></tr><tr><td>2023-06-05T13:14:49.710082Z</td><td>192.168.39.85</td><td>UserAgent-1986</td><td>500</td><td>4272</td></tr><tr><td>2023-11-18T00:31:48.710082Z</td><td>192.168.181.144</td><td>UserAgent-2561</td><td>500</td><td>2317</td></tr><tr><td>2023-07-14T23:20:39.710082Z</td><td>192.168.67.178</td><td>UserAgent-3717</td><td>404</td><td>9315</td></tr><tr><td>2023-10-01T21:10:18.710082Z</td><td>192.168.62.173</td><td>UserAgent-1691</td><td>500</td><td>6663</td></tr><tr><td>2023-07-31T03:59:35.710082Z</td><td>192.168.112.69</td><td>UserAgent-5791</td><td>404</td><td>6453</td></tr><tr><td>2023-05-13T10:48:51.710082Z</td><td>192.168.69.8</td><td>UserAgent-9597</td><td>200</td><td>2381</td></tr><tr><td>2023-05-08T10:13:43.710082Z</td><td>192.168.207.251</td><td>UserAgent-3303</td><td>404</td><td>5837</td></tr><tr><td>2023-05-24T19:49:54.710082Z</td><td>192.168.87.157</td><td>UserAgent-2802</td><td>404</td><td>5938</td></tr><tr><td>2023-03-27T00:49:36.710082Z</td><td>192.168.126.107</td><td>UserAgent-9531</td><td>404</td><td>6440</td></tr><tr><td>2023-07-09T14:50:45.710082Z</td><td>192.168.165.18</td><td>UserAgent-2830</td><td>200</td><td>1466</td></tr><tr><td>2023-06-09T05:53:00.710082Z</td><td>192.168.86.178</td><td>UserAgent-6031</td><td>200</td><td>3777</td></tr><tr><td>2024-02-17T10:12:51.710082Z</td><td>192.168.170.238</td><td>UserAgent-1956</td><td>404</td><td>6337</td></tr><tr><td>2023-11-18T12:24:42.710082Z</td><td>192.168.202.253</td><td>UserAgent-2536</td><td>500</td><td>9564</td></tr><tr><td>2024-02-19T09:06:50.710082Z</td><td>192.168.67.138</td><td>UserAgent-7240</td><td>404</td><td>611</td></tr><tr><td>2023-03-30T03:10:03.710082Z</td><td>192.168.70.28</td><td>UserAgent-2113</td><td>404</td><td>4500</td></tr><tr><td>2023-08-29T15:38:43.710082Z</td><td>192.168.163.178</td><td>UserAgent-4675</td><td>404</td><td>2825</td></tr><tr><td>2023-05-11T01:05:34.710082Z</td><td>192.168.130.80</td><td>UserAgent-9867</td><td>404</td><td>9836</td></tr><tr><td>2023-06-04T19:06:03.710082Z</td><td>192.168.135.140</td><td>UserAgent-3863</td><td>404</td><td>6539</td></tr><tr><td>2023-11-29T05:24:39.710082Z</td><td>192.168.128.108</td><td>UserAgent-1153</td><td>200</td><td>9644</td></tr><tr><td>2023-06-28T01:48:53.710082Z</td><td>192.168.219.250</td><td>UserAgent-5885</td><td>404</td><td>3739</td></tr><tr><td>2024-02-18T04:24:29.710082Z</td><td>192.168.87.200</td><td>UserAgent-2169</td><td>200</td><td>187</td></tr><tr><td>2023-10-24T20:38:02.710082Z</td><td>192.168.145.200</td><td>UserAgent-9967</td><td>500</td><td>847</td></tr><tr><td>2023-10-15T17:56:28.710082Z</td><td>192.168.23.225</td><td>UserAgent-2968</td><td>200</td><td>6586</td></tr><tr><td>2023-06-02T23:24:07.710082Z</td><td>192.168.251.254</td><td>UserAgent-9574</td><td>500</td><td>9695</td></tr><tr><td>2023-06-27T14:17:39.710082Z</td><td>192.168.60.221</td><td>UserAgent-7548</td><td>200</td><td>7616</td></tr><tr><td>2023-04-25T20:28:15.710082Z</td><td>192.168.13.195</td><td>UserAgent-6338</td><td>404</td><td>8533</td></tr><tr><td>2023-09-27T03:59:32.710082Z</td><td>192.168.197.215</td><td>UserAgent-8946</td><td>500</td><td>9573</td></tr><tr><td>2023-07-24T16:02:18.710082Z</td><td>192.168.7.133</td><td>UserAgent-7699</td><td>500</td><td>6917</td></tr><tr><td>2023-02-28T23:42:37.710082Z</td><td>192.168.26.135</td><td>UserAgent-7426</td><td>404</td><td>3222</td></tr><tr><td>2023-12-11T13:23:13.710082Z</td><td>192.168.97.242</td><td>UserAgent-2529</td><td>200</td><td>831</td></tr><tr><td>2023-10-20T21:10:23.710082Z</td><td>192.168.72.107</td><td>UserAgent-7959</td><td>200</td><td>6022</td></tr><tr><td>2023-03-04T11:51:51.710082Z</td><td>192.168.167.93</td><td>UserAgent-8168</td><td>404</td><td>5457</td></tr><tr><td>2024-01-12T15:40:53.710082Z</td><td>192.168.16.34</td><td>UserAgent-4349</td><td>500</td><td>9602</td></tr><tr><td>2023-06-14T22:45:13.710082Z</td><td>192.168.173.134</td><td>UserAgent-5117</td><td>200</td><td>4907</td></tr><tr><td>2023-11-30T18:31:43.710082Z</td><td>192.168.200.21</td><td>UserAgent-3026</td><td>200</td><td>3996</td></tr><tr><td>2023-05-27T10:31:01.710082Z</td><td>192.168.198.102</td><td>UserAgent-4147</td><td>404</td><td>661</td></tr><tr><td>2023-06-28T15:23:39.710082Z</td><td>192.168.34.83</td><td>UserAgent-2558</td><td>200</td><td>5223</td></tr><tr><td>2023-05-24T15:54:28.710082Z</td><td>192.168.101.113</td><td>UserAgent-5329</td><td>404</td><td>6698</td></tr><tr><td>2024-01-24T11:37:06.710082Z</td><td>192.168.204.3</td><td>UserAgent-4054</td><td>200</td><td>3336</td></tr><tr><td>2023-11-17T05:53:13.710082Z</td><td>192.168.133.121</td><td>UserAgent-8532</td><td>500</td><td>9651</td></tr><tr><td>2023-11-11T16:17:25.710082Z</td><td>192.168.22.187</td><td>UserAgent-4513</td><td>200</td><td>823</td></tr><tr><td>2023-08-28T11:35:39.710082Z</td><td>192.168.15.81</td><td>UserAgent-6271</td><td>200</td><td>6315</td></tr><tr><td>2023-06-17T02:41:11.710082Z</td><td>192.168.220.211</td><td>UserAgent-6712</td><td>200</td><td>3179</td></tr><tr><td>2023-04-18T02:53:02.710082Z</td><td>192.168.204.42</td><td>UserAgent-4807</td><td>404</td><td>7939</td></tr><tr><td>2023-05-27T00:44:01.710082Z</td><td>192.168.214.208</td><td>UserAgent-9480</td><td>200</td><td>2594</td></tr><tr><td>2023-08-26T08:53:14.710082Z</td><td>192.168.170.178</td><td>UserAgent-5739</td><td>500</td><td>8095</td></tr><tr><td>2023-07-01T12:53:44.710082Z</td><td>192.168.251.224</td><td>UserAgent-5235</td><td>404</td><td>9610</td></tr><tr><td>2023-10-15T15:35:57.710082Z</td><td>192.168.47.217</td><td>UserAgent-4637</td><td>500</td><td>674</td></tr><tr><td>2023-12-29T11:49:08.710082Z</td><td>192.168.177.244</td><td>UserAgent-8318</td><td>200</td><td>9382</td></tr><tr><td>2023-04-10T01:37:23.710082Z</td><td>192.168.20.248</td><td>UserAgent-1424</td><td>404</td><td>4565</td></tr><tr><td>2023-03-04T19:44:01.710082Z</td><td>192.168.89.0</td><td>UserAgent-2213</td><td>500</td><td>5843</td></tr><tr><td>2024-01-04T09:54:41.710082Z</td><td>192.168.70.4</td><td>UserAgent-8115</td><td>404</td><td>8297</td></tr><tr><td>2023-06-04T06:51:35.710082Z</td><td>192.168.16.235</td><td>UserAgent-6757</td><td>200</td><td>2932</td></tr><tr><td>2023-11-17T06:08:45.710082Z</td><td>192.168.150.205</td><td>UserAgent-6070</td><td>200</td><td>5180</td></tr><tr><td>2023-04-30T18:31:41.710082Z</td><td>192.168.119.34</td><td>UserAgent-4024</td><td>404</td><td>1896</td></tr><tr><td>2023-05-21T00:35:37.710082Z</td><td>192.168.167.79</td><td>UserAgent-9544</td><td>404</td><td>1584</td></tr><tr><td>2023-03-26T23:03:34.710082Z</td><td>192.168.231.49</td><td>UserAgent-9495</td><td>404</td><td>1063</td></tr><tr><td>2023-04-16T05:19:44.710082Z</td><td>192.168.222.89</td><td>UserAgent-2774</td><td>404</td><td>6859</td></tr><tr><td>2023-11-19T04:06:26.710082Z</td><td>192.168.195.58</td><td>UserAgent-7718</td><td>500</td><td>9745</td></tr><tr><td>2023-08-22T04:42:07.710082Z</td><td>192.168.19.134</td><td>UserAgent-3113</td><td>404</td><td>7268</td></tr><tr><td>2023-12-04T21:01:13.710082Z</td><td>192.168.10.97</td><td>UserAgent-7920</td><td>200</td><td>8953</td></tr><tr><td>2023-06-08T02:49:49.710082Z</td><td>192.168.22.151</td><td>UserAgent-5262</td><td>200</td><td>3570</td></tr><tr><td>2023-04-20T15:29:46.710082Z</td><td>192.168.87.252</td><td>UserAgent-3281</td><td>500</td><td>3129</td></tr><tr><td>2023-09-23T08:09:36.710082Z</td><td>192.168.195.226</td><td>UserAgent-7283</td><td>404</td><td>7651</td></tr><tr><td>2023-08-06T17:42:15.710082Z</td><td>192.168.62.48</td><td>UserAgent-7098</td><td>200</td><td>9421</td></tr><tr><td>2023-06-16T02:29:30.710082Z</td><td>192.168.49.62</td><td>UserAgent-9680</td><td>500</td><td>2715</td></tr><tr><td>2023-03-10T15:05:16.710082Z</td><td>192.168.8.109</td><td>UserAgent-7854</td><td>404</td><td>6635</td></tr><tr><td>2023-08-27T00:27:56.710082Z</td><td>192.168.40.137</td><td>UserAgent-8228</td><td>200</td><td>6025</td></tr><tr><td>2023-10-29T06:52:51.710082Z</td><td>192.168.129.34</td><td>UserAgent-8812</td><td>404</td><td>8383</td></tr><tr><td>2023-08-14T01:08:51.710082Z</td><td>192.168.113.204</td><td>UserAgent-4272</td><td>404</td><td>5181</td></tr><tr><td>2023-07-10T23:40:50.710082Z</td><td>192.168.238.106</td><td>UserAgent-9649</td><td>404</td><td>7268</td></tr><tr><td>2024-02-04T17:13:16.710082Z</td><td>192.168.35.254</td><td>UserAgent-1925</td><td>500</td><td>5112</td></tr><tr><td>2023-09-04T20:19:29.710082Z</td><td>192.168.1.171</td><td>UserAgent-8464</td><td>500</td><td>2351</td></tr><tr><td>2024-01-17T18:08:12.710082Z</td><td>192.168.117.10</td><td>UserAgent-2994</td><td>500</td><td>2313</td></tr><tr><td>2023-10-24T10:11:00.710082Z</td><td>192.168.190.217</td><td>UserAgent-7148</td><td>404</td><td>9102</td></tr><tr><td>2023-03-16T10:59:56.710082Z</td><td>192.168.241.148</td><td>UserAgent-2180</td><td>200</td><td>5145</td></tr><tr><td>2023-05-20T17:06:53.710082Z</td><td>192.168.0.183</td><td>UserAgent-6512</td><td>200</td><td>6854</td></tr><tr><td>2023-08-12T19:27:43.710082Z</td><td>192.168.47.116</td><td>UserAgent-9467</td><td>500</td><td>5634</td></tr><tr><td>2023-09-20T17:07:44.710082Z</td><td>192.168.30.104</td><td>UserAgent-8887</td><td>200</td><td>4752</td></tr><tr><td>2024-01-28T04:48:32.710082Z</td><td>192.168.130.31</td><td>UserAgent-2996</td><td>404</td><td>9703</td></tr><tr><td>2023-05-29T10:40:16.710082Z</td><td>192.168.212.128</td><td>UserAgent-3242</td><td>500</td><td>7940</td></tr><tr><td>2023-06-24T07:09:25.710082Z</td><td>192.168.157.247</td><td>UserAgent-8769</td><td>404</td><td>248</td></tr><tr><td>2023-07-14T02:54:14.710082Z</td><td>192.168.201.183</td><td>UserAgent-4691</td><td>404</td><td>6950</td></tr><tr><td>2023-10-22T04:33:17.710082Z</td><td>192.168.205.20</td><td>UserAgent-7256</td><td>404</td><td>6299</td></tr><tr><td>2024-01-24T17:43:24.710082Z</td><td>192.168.59.199</td><td>UserAgent-9432</td><td>200</td><td>3534</td></tr><tr><td>2023-12-08T02:03:58.710082Z</td><td>192.168.67.230</td><td>UserAgent-7678</td><td>200</td><td>4428</td></tr><tr><td>2023-12-07T22:09:50.710082Z</td><td>192.168.116.18</td><td>UserAgent-4633</td><td>200</td><td>5534</td></tr><tr><td>2023-09-04T03:31:20.710082Z</td><td>192.168.30.205</td><td>UserAgent-3666</td><td>500</td><td>7858</td></tr><tr><td>2023-03-18T09:51:31.710082Z</td><td>192.168.243.252</td><td>UserAgent-6461</td><td>404</td><td>7982</td></tr><tr><td>2024-01-01T21:44:51.710082Z</td><td>192.168.12.244</td><td>UserAgent-2155</td><td>200</td><td>5877</td></tr><tr><td>2023-05-02T05:56:22.710082Z</td><td>192.168.21.73</td><td>UserAgent-4459</td><td>500</td><td>1241</td></tr><tr><td>2023-10-31T17:13:28.710082Z</td><td>192.168.112.70</td><td>UserAgent-2390</td><td>404</td><td>724</td></tr><tr><td>2023-11-22T04:14:14.710082Z</td><td>192.168.102.28</td><td>UserAgent-9152</td><td>404</td><td>8222</td></tr><tr><td>2024-01-10T09:46:27.710082Z</td><td>192.168.235.118</td><td>UserAgent-5403</td><td>500</td><td>6827</td></tr><tr><td>2023-05-07T13:18:20.710082Z</td><td>192.168.173.16</td><td>UserAgent-2617</td><td>200</td><td>6631</td></tr><tr><td>2023-11-01T21:38:22.710082Z</td><td>192.168.179.225</td><td>UserAgent-4896</td><td>200</td><td>2512</td></tr><tr><td>2023-12-12T17:35:11.710082Z</td><td>192.168.75.73</td><td>UserAgent-4048</td><td>200</td><td>1741</td></tr><tr><td>2023-12-15T19:27:20.710082Z</td><td>192.168.76.34</td><td>UserAgent-7392</td><td>200</td><td>3127</td></tr><tr><td>2023-12-19T00:12:58.710082Z</td><td>192.168.132.71</td><td>UserAgent-4970</td><td>200</td><td>7101</td></tr><tr><td>2024-01-30T10:12:58.710082Z</td><td>192.168.94.29</td><td>UserAgent-7581</td><td>200</td><td>1402</td></tr><tr><td>2023-03-26T15:24:09.710082Z</td><td>192.168.161.102</td><td>UserAgent-1203</td><td>500</td><td>6392</td></tr><tr><td>2023-05-17T04:15:30.710082Z</td><td>192.168.98.183</td><td>UserAgent-6716</td><td>404</td><td>3910</td></tr><tr><td>2023-04-13T13:28:04.710082Z</td><td>192.168.113.226</td><td>UserAgent-5167</td><td>404</td><td>2417</td></tr><tr><td>2023-03-17T21:41:23.710082Z</td><td>192.168.236.28</td><td>UserAgent-8524</td><td>404</td><td>7886</td></tr><tr><td>2024-01-24T18:05:43.710082Z</td><td>192.168.168.125</td><td>UserAgent-9900</td><td>200</td><td>4036</td></tr><tr><td>2023-05-14T20:14:02.710082Z</td><td>192.168.235.234</td><td>UserAgent-4932</td><td>200</td><td>3176</td></tr><tr><td>2023-09-24T12:05:39.710082Z</td><td>192.168.119.54</td><td>UserAgent-3990</td><td>404</td><td>7873</td></tr><tr><td>2023-12-11T01:52:33.710082Z</td><td>192.168.119.243</td><td>UserAgent-8922</td><td>404</td><td>1412</td></tr><tr><td>2023-05-19T06:36:50.710082Z</td><td>192.168.71.137</td><td>UserAgent-3547</td><td>404</td><td>5752</td></tr><tr><td>2023-12-14T16:05:41.710082Z</td><td>192.168.76.227</td><td>UserAgent-2627</td><td>500</td><td>2326</td></tr><tr><td>2023-06-11T23:49:28.710082Z</td><td>192.168.234.24</td><td>UserAgent-7712</td><td>404</td><td>461</td></tr><tr><td>2023-12-24T20:58:57.710082Z</td><td>192.168.0.246</td><td>UserAgent-9149</td><td>404</td><td>8887</td></tr><tr><td>2023-04-03T21:56:08.710082Z</td><td>192.168.177.18</td><td>UserAgent-9040</td><td>500</td><td>2935</td></tr><tr><td>2023-08-02T07:45:33.710082Z</td><td>192.168.12.138</td><td>UserAgent-1916</td><td>404</td><td>114</td></tr><tr><td>2023-06-29T14:50:14.710082Z</td><td>192.168.236.31</td><td>UserAgent-2078</td><td>404</td><td>3248</td></tr><tr><td>2023-12-26T07:27:41.710082Z</td><td>192.168.158.214</td><td>UserAgent-7650</td><td>404</td><td>5374</td></tr><tr><td>2023-09-03T05:39:40.710082Z</td><td>192.168.72.12</td><td>UserAgent-1586</td><td>200</td><td>1016</td></tr><tr><td>2024-01-04T13:55:46.710082Z</td><td>192.168.28.163</td><td>UserAgent-8447</td><td>500</td><td>3048</td></tr><tr><td>2023-10-29T12:25:01.710082Z</td><td>192.168.70.47</td><td>UserAgent-9816</td><td>500</td><td>7866</td></tr><tr><td>2023-11-29T05:10:41.710082Z</td><td>192.168.177.208</td><td>UserAgent-4565</td><td>500</td><td>857</td></tr><tr><td>2023-07-16T07:11:27.710082Z</td><td>192.168.225.105</td><td>UserAgent-5255</td><td>500</td><td>987</td></tr><tr><td>2024-02-02T14:06:02.710082Z</td><td>192.168.146.79</td><td>UserAgent-1936</td><td>404</td><td>6177</td></tr><tr><td>2024-01-08T11:35:56.710082Z</td><td>192.168.243.55</td><td>UserAgent-8103</td><td>200</td><td>6306</td></tr><tr><td>2023-05-10T15:36:11.710082Z</td><td>192.168.4.248</td><td>UserAgent-3761</td><td>200</td><td>7085</td></tr><tr><td>2023-10-12T16:20:30.710082Z</td><td>192.168.9.86</td><td>UserAgent-2267</td><td>500</td><td>5190</td></tr><tr><td>2023-05-30T03:46:36.710082Z</td><td>192.168.51.244</td><td>UserAgent-6027</td><td>200</td><td>6841</td></tr><tr><td>2023-05-20T05:01:42.710082Z</td><td>192.168.176.16</td><td>UserAgent-9929</td><td>500</td><td>7449</td></tr><tr><td>2023-08-19T12:27:04.710082Z</td><td>192.168.24.239</td><td>UserAgent-4321</td><td>404</td><td>903</td></tr><tr><td>2023-07-10T17:24:41.710082Z</td><td>192.168.13.7</td><td>UserAgent-3511</td><td>500</td><td>9050</td></tr><tr><td>2023-08-04T14:24:10.710082Z</td><td>192.168.231.65</td><td>UserAgent-8867</td><td>500</td><td>4042</td></tr><tr><td>2023-11-14T12:14:54.710082Z</td><td>192.168.46.241</td><td>UserAgent-2856</td><td>404</td><td>8844</td></tr><tr><td>2024-01-12T00:16:16.710082Z</td><td>192.168.97.225</td><td>UserAgent-8763</td><td>500</td><td>2194</td></tr><tr><td>2023-03-22T11:38:29.710082Z</td><td>192.168.139.146</td><td>UserAgent-2656</td><td>404</td><td>8609</td></tr><tr><td>2024-02-28T14:36:53.710082Z</td><td>192.168.204.122</td><td>UserAgent-4022</td><td>404</td><td>4815</td></tr><tr><td>2024-02-13T18:47:15.710082Z</td><td>192.168.114.95</td><td>UserAgent-2261</td><td>200</td><td>9800</td></tr><tr><td>2023-03-05T14:04:19.710082Z</td><td>192.168.125.175</td><td>UserAgent-4224</td><td>404</td><td>7174</td></tr><tr><td>2024-01-30T00:09:47.710082Z</td><td>192.168.58.58</td><td>UserAgent-7826</td><td>200</td><td>1150</td></tr><tr><td>2023-10-28T19:10:52.710082Z</td><td>192.168.32.54</td><td>UserAgent-9573</td><td>404</td><td>5265</td></tr><tr><td>2023-04-27T03:33:51.710082Z</td><td>192.168.163.167</td><td>UserAgent-3641</td><td>200</td><td>2751</td></tr><tr><td>2023-03-04T10:37:25.710082Z</td><td>192.168.18.201</td><td>UserAgent-1479</td><td>500</td><td>4270</td></tr><tr><td>2024-01-29T02:36:03.710082Z</td><td>192.168.166.4</td><td>UserAgent-9396</td><td>200</td><td>6693</td></tr><tr><td>2023-06-23T07:26:26.710082Z</td><td>192.168.253.151</td><td>UserAgent-7728</td><td>200</td><td>3680</td></tr><tr><td>2023-12-20T00:25:09.710082Z</td><td>192.168.90.92</td><td>UserAgent-9311</td><td>500</td><td>7448</td></tr><tr><td>2023-06-29T20:38:46.710082Z</td><td>192.168.188.231</td><td>UserAgent-8705</td><td>200</td><td>5110</td></tr><tr><td>2023-09-05T04:39:03.710082Z</td><td>192.168.220.51</td><td>UserAgent-5638</td><td>500</td><td>4980</td></tr><tr><td>2023-04-29T21:55:13.710082Z</td><td>192.168.220.238</td><td>UserAgent-2586</td><td>200</td><td>711</td></tr><tr><td>2023-12-26T18:14:35.710082Z</td><td>192.168.114.237</td><td>UserAgent-7699</td><td>200</td><td>7769</td></tr><tr><td>2023-09-10T22:27:07.710082Z</td><td>192.168.30.194</td><td>UserAgent-8807</td><td>200</td><td>7257</td></tr><tr><td>2024-01-04T19:28:20.710082Z</td><td>192.168.133.84</td><td>UserAgent-2795</td><td>200</td><td>7515</td></tr><tr><td>2023-06-18T07:53:26.710082Z</td><td>192.168.135.44</td><td>UserAgent-5840</td><td>200</td><td>8360</td></tr><tr><td>2023-10-13T07:48:53.710082Z</td><td>192.168.140.114</td><td>UserAgent-8595</td><td>200</td><td>2893</td></tr><tr><td>2023-05-23T12:03:11.710082Z</td><td>192.168.38.121</td><td>UserAgent-9531</td><td>500</td><td>2150</td></tr><tr><td>2023-04-03T12:24:01.710082Z</td><td>192.168.240.119</td><td>UserAgent-6445</td><td>200</td><td>1528</td></tr><tr><td>2023-12-14T08:12:16.710082Z</td><td>192.168.199.105</td><td>UserAgent-6756</td><td>200</td><td>6932</td></tr><tr><td>2023-09-13T15:06:59.710082Z</td><td>192.168.39.58</td><td>UserAgent-9546</td><td>404</td><td>4288</td></tr><tr><td>2023-09-05T06:02:32.710082Z</td><td>192.168.63.221</td><td>UserAgent-6564</td><td>500</td><td>2101</td></tr><tr><td>2023-03-09T20:33:20.710082Z</td><td>192.168.114.147</td><td>UserAgent-3713</td><td>200</td><td>1843</td></tr><tr><td>2023-03-21T10:02:22.710082Z</td><td>192.168.149.66</td><td>UserAgent-7356</td><td>404</td><td>303</td></tr><tr><td>2023-10-12T09:31:46.710082Z</td><td>192.168.64.192</td><td>UserAgent-7158</td><td>404</td><td>8190</td></tr><tr><td>2023-09-28T03:36:34.710082Z</td><td>192.168.157.178</td><td>UserAgent-8007</td><td>404</td><td>193</td></tr><tr><td>2023-10-01T17:26:54.710082Z</td><td>192.168.179.40</td><td>UserAgent-3463</td><td>500</td><td>4160</td></tr><tr><td>2023-03-05T07:52:08.710082Z</td><td>192.168.115.63</td><td>UserAgent-7174</td><td>500</td><td>4663</td></tr><tr><td>2023-07-01T04:16:44.710082Z</td><td>192.168.154.158</td><td>UserAgent-4242</td><td>200</td><td>4320</td></tr><tr><td>2024-02-01T11:17:55.710082Z</td><td>192.168.46.214</td><td>UserAgent-4358</td><td>500</td><td>7333</td></tr><tr><td>2024-02-20T17:01:02.710082Z</td><td>192.168.160.17</td><td>UserAgent-2928</td><td>404</td><td>2703</td></tr><tr><td>2023-08-10T19:51:15.710082Z</td><td>192.168.55.127</td><td>UserAgent-3208</td><td>404</td><td>5645</td></tr><tr><td>2023-10-25T05:18:48.710082Z</td><td>192.168.102.69</td><td>UserAgent-3681</td><td>404</td><td>5313</td></tr><tr><td>2023-04-13T18:00:17.710082Z</td><td>192.168.172.0</td><td>UserAgent-1063</td><td>404</td><td>3609</td></tr><tr><td>2023-09-19T17:41:35.710082Z</td><td>192.168.195.254</td><td>UserAgent-2321</td><td>500</td><td>147</td></tr><tr><td>2023-07-04T20:48:31.710082Z</td><td>192.168.68.181</td><td>UserAgent-6420</td><td>200</td><td>8432</td></tr><tr><td>2023-07-16T18:42:30.710082Z</td><td>192.168.29.56</td><td>UserAgent-8938</td><td>404</td><td>5309</td></tr><tr><td>2024-01-11T20:38:26.710082Z</td><td>192.168.129.175</td><td>UserAgent-7874</td><td>404</td><td>943</td></tr><tr><td>2023-11-11T02:34:42.710082Z</td><td>192.168.97.60</td><td>UserAgent-5047</td><td>200</td><td>8413</td></tr><tr><td>2024-02-11T10:12:10.710082Z</td><td>192.168.40.167</td><td>UserAgent-4546</td><td>200</td><td>4080</td></tr><tr><td>2023-07-15T15:23:16.710082Z</td><td>192.168.255.140</td><td>UserAgent-1017</td><td>500</td><td>9351</td></tr><tr><td>2023-07-16T16:41:55.710082Z</td><td>192.168.192.47</td><td>UserAgent-7422</td><td>200</td><td>9448</td></tr><tr><td>2024-01-03T17:02:02.710082Z</td><td>192.168.209.234</td><td>UserAgent-6621</td><td>500</td><td>7063</td></tr><tr><td>2023-04-23T03:20:30.710082Z</td><td>192.168.112.40</td><td>UserAgent-1273</td><td>404</td><td>9614</td></tr><tr><td>2023-03-27T21:52:57.710082Z</td><td>192.168.5.167</td><td>UserAgent-3249</td><td>404</td><td>1143</td></tr><tr><td>2024-02-03T15:18:05.710082Z</td><td>192.168.113.178</td><td>UserAgent-3876</td><td>200</td><td>8236</td></tr><tr><td>2023-08-02T14:07:33.710082Z</td><td>192.168.132.51</td><td>UserAgent-3091</td><td>500</td><td>1429</td></tr><tr><td>2024-02-25T14:28:11.710082Z</td><td>192.168.3.232</td><td>UserAgent-6384</td><td>404</td><td>2422</td></tr><tr><td>2023-03-11T11:06:47.710082Z</td><td>192.168.177.113</td><td>UserAgent-9261</td><td>500</td><td>2775</td></tr><tr><td>2023-11-10T09:38:44.710082Z</td><td>192.168.109.74</td><td>UserAgent-5748</td><td>404</td><td>1086</td></tr><tr><td>2023-10-26T13:41:38.710082Z</td><td>192.168.244.95</td><td>UserAgent-4775</td><td>404</td><td>6320</td></tr><tr><td>2023-05-28T13:45:55.710082Z</td><td>192.168.231.28</td><td>UserAgent-7480</td><td>404</td><td>9178</td></tr><tr><td>2023-07-25T15:53:05.710082Z</td><td>192.168.195.145</td><td>UserAgent-5274</td><td>500</td><td>9504</td></tr><tr><td>2023-05-19T07:01:10.710082Z</td><td>192.168.38.225</td><td>UserAgent-3229</td><td>200</td><td>8582</td></tr><tr><td>2023-06-04T09:17:25.710082Z</td><td>192.168.102.113</td><td>UserAgent-6496</td><td>200</td><td>4354</td></tr><tr><td>2023-03-12T17:41:58.710082Z</td><td>192.168.124.140</td><td>UserAgent-3475</td><td>200</td><td>890</td></tr><tr><td>2023-05-15T08:39:15.710082Z</td><td>192.168.116.64</td><td>UserAgent-2744</td><td>404</td><td>3637</td></tr><tr><td>2023-06-07T22:01:13.710082Z</td><td>192.168.64.179</td><td>UserAgent-9041</td><td>200</td><td>2277</td></tr><tr><td>2024-01-26T22:25:35.710082Z</td><td>192.168.92.72</td><td>UserAgent-7679</td><td>404</td><td>3475</td></tr><tr><td>2024-02-16T15:38:05.710082Z</td><td>192.168.211.128</td><td>UserAgent-6368</td><td>500</td><td>7127</td></tr><tr><td>2023-04-21T07:14:54.710082Z</td><td>192.168.153.156</td><td>UserAgent-1879</td><td>500</td><td>6997</td></tr><tr><td>2023-11-20T23:40:08.710082Z</td><td>192.168.103.250</td><td>UserAgent-1840</td><td>404</td><td>5468</td></tr><tr><td>2023-10-14T09:56:09.710082Z</td><td>192.168.15.102</td><td>UserAgent-2085</td><td>200</td><td>1544</td></tr><tr><td>2023-03-22T20:36:18.710082Z</td><td>192.168.69.64</td><td>UserAgent-7571</td><td>200</td><td>361</td></tr><tr><td>2024-01-04T13:25:12.710082Z</td><td>192.168.9.210</td><td>UserAgent-2894</td><td>200</td><td>1352</td></tr><tr><td>2023-03-22T19:30:01.710082Z</td><td>192.168.137.66</td><td>UserAgent-2067</td><td>200</td><td>1321</td></tr><tr><td>2023-10-20T04:08:36.710082Z</td><td>192.168.29.47</td><td>UserAgent-9847</td><td>500</td><td>180</td></tr><tr><td>2023-11-20T07:30:31.710082Z</td><td>192.168.244.87</td><td>UserAgent-7204</td><td>404</td><td>7664</td></tr><tr><td>2023-03-11T07:38:46.710082Z</td><td>192.168.84.73</td><td>UserAgent-1297</td><td>500</td><td>893</td></tr><tr><td>2023-09-09T14:14:48.710082Z</td><td>192.168.146.195</td><td>UserAgent-1549</td><td>200</td><td>3426</td></tr><tr><td>2023-06-12T02:05:40.710082Z</td><td>192.168.231.2</td><td>UserAgent-7533</td><td>500</td><td>7241</td></tr><tr><td>2023-06-10T10:46:43.710082Z</td><td>192.168.139.129</td><td>UserAgent-9555</td><td>404</td><td>4601</td></tr><tr><td>2023-04-10T11:20:13.710082Z</td><td>192.168.29.215</td><td>UserAgent-8760</td><td>404</td><td>5278</td></tr><tr><td>2023-04-29T09:52:22.710082Z</td><td>192.168.242.70</td><td>UserAgent-5735</td><td>404</td><td>9041</td></tr><tr><td>2023-04-07T20:43:04.710082Z</td><td>192.168.133.142</td><td>UserAgent-7927</td><td>404</td><td>6535</td></tr><tr><td>2023-12-02T00:04:36.710082Z</td><td>192.168.108.47</td><td>UserAgent-4139</td><td>200</td><td>5241</td></tr><tr><td>2024-01-08T16:37:06.710082Z</td><td>192.168.247.37</td><td>UserAgent-6311</td><td>200</td><td>9923</td></tr><tr><td>2023-04-15T16:02:49.710082Z</td><td>192.168.34.250</td><td>UserAgent-2910</td><td>404</td><td>321</td></tr><tr><td>2023-03-05T00:20:34.710082Z</td><td>192.168.43.182</td><td>UserAgent-4355</td><td>500</td><td>4595</td></tr><tr><td>2023-10-19T22:33:58.710082Z</td><td>192.168.138.248</td><td>UserAgent-8019</td><td>500</td><td>7968</td></tr><tr><td>2024-02-23T06:52:50.710082Z</td><td>192.168.119.30</td><td>UserAgent-4079</td><td>404</td><td>5928</td></tr><tr><td>2024-01-11T04:53:43.710082Z</td><td>192.168.134.184</td><td>UserAgent-1508</td><td>500</td><td>2401</td></tr><tr><td>2023-10-08T09:05:21.710082Z</td><td>192.168.130.224</td><td>UserAgent-1444</td><td>404</td><td>5096</td></tr><tr><td>2023-05-13T23:31:31.710082Z</td><td>192.168.224.121</td><td>UserAgent-9318</td><td>404</td><td>893</td></tr><tr><td>2023-10-17T13:59:14.710082Z</td><td>192.168.190.226</td><td>UserAgent-8041</td><td>404</td><td>7064</td></tr><tr><td>2023-12-11T19:11:35.710082Z</td><td>192.168.75.95</td><td>UserAgent-5206</td><td>200</td><td>257</td></tr><tr><td>2023-10-04T20:11:02.710082Z</td><td>192.168.41.222</td><td>UserAgent-6258</td><td>404</td><td>202</td></tr><tr><td>2023-08-31T15:28:58.710082Z</td><td>192.168.130.145</td><td>UserAgent-6445</td><td>500</td><td>5487</td></tr><tr><td>2023-08-17T13:22:39.710082Z</td><td>192.168.62.167</td><td>UserAgent-3214</td><td>404</td><td>6131</td></tr><tr><td>2024-02-26T14:04:43.710082Z</td><td>192.168.12.147</td><td>UserAgent-7189</td><td>500</td><td>9342</td></tr><tr><td>2024-01-19T18:41:51.710082Z</td><td>192.168.34.76</td><td>UserAgent-9899</td><td>404</td><td>8928</td></tr><tr><td>2023-09-30T22:56:28.710082Z</td><td>192.168.101.197</td><td>UserAgent-5445</td><td>200</td><td>9314</td></tr><tr><td>2023-07-31T17:47:40.710082Z</td><td>192.168.249.50</td><td>UserAgent-6797</td><td>500</td><td>6582</td></tr><tr><td>2024-02-03T18:09:42.710082Z</td><td>192.168.55.105</td><td>UserAgent-4146</td><td>200</td><td>860</td></tr><tr><td>2023-03-30T16:28:08.710082Z</td><td>192.168.32.187</td><td>UserAgent-5262</td><td>404</td><td>7151</td></tr><tr><td>2023-09-28T07:04:57.710082Z</td><td>192.168.97.103</td><td>UserAgent-8863</td><td>200</td><td>9775</td></tr><tr><td>2023-08-21T20:53:51.710082Z</td><td>192.168.42.105</td><td>UserAgent-8604</td><td>404</td><td>8719</td></tr><tr><td>2023-08-01T13:57:59.710082Z</td><td>192.168.90.165</td><td>UserAgent-3503</td><td>200</td><td>3334</td></tr><tr><td>2023-07-01T00:19:27.710082Z</td><td>192.168.83.152</td><td>UserAgent-7448</td><td>500</td><td>5659</td></tr><tr><td>2023-07-08T12:30:06.710082Z</td><td>192.168.106.133</td><td>UserAgent-5646</td><td>200</td><td>8250</td></tr><tr><td>2023-11-08T17:56:28.710082Z</td><td>192.168.156.55</td><td>UserAgent-4649</td><td>404</td><td>3166</td></tr><tr><td>2023-10-26T20:05:16.710082Z</td><td>192.168.127.69</td><td>UserAgent-4049</td><td>200</td><td>3613</td></tr><tr><td>2023-05-01T23:55:53.710082Z</td><td>192.168.150.205</td><td>UserAgent-7244</td><td>200</td><td>538</td></tr><tr><td>2023-07-12T02:49:26.710082Z</td><td>192.168.10.148</td><td>UserAgent-3379</td><td>200</td><td>3243</td></tr><tr><td>2023-09-12T13:20:47.710082Z</td><td>192.168.217.154</td><td>UserAgent-5370</td><td>200</td><td>7840</td></tr><tr><td>2023-08-22T21:14:23.710082Z</td><td>192.168.125.67</td><td>UserAgent-3067</td><td>500</td><td>1588</td></tr><tr><td>2023-08-20T07:20:08.710082Z</td><td>192.168.151.84</td><td>UserAgent-4856</td><td>500</td><td>8978</td></tr><tr><td>2024-01-04T03:39:07.710082Z</td><td>192.168.32.167</td><td>UserAgent-2735</td><td>500</td><td>3855</td></tr><tr><td>2023-06-26T06:53:19.710082Z</td><td>192.168.92.15</td><td>UserAgent-1541</td><td>500</td><td>5746</td></tr><tr><td>2023-03-28T04:47:23.710082Z</td><td>192.168.148.51</td><td>UserAgent-9832</td><td>500</td><td>560</td></tr><tr><td>2023-11-05T14:01:57.710082Z</td><td>192.168.75.221</td><td>UserAgent-1378</td><td>404</td><td>459</td></tr><tr><td>2024-01-16T01:22:40.710082Z</td><td>192.168.252.226</td><td>UserAgent-4859</td><td>200</td><td>4172</td></tr><tr><td>2024-02-21T05:44:32.710082Z</td><td>192.168.158.158</td><td>UserAgent-1899</td><td>404</td><td>9125</td></tr><tr><td>2023-06-24T06:06:25.710082Z</td><td>192.168.241.82</td><td>UserAgent-6421</td><td>200</td><td>3929</td></tr><tr><td>2023-10-30T07:03:14.710082Z</td><td>192.168.56.89</td><td>UserAgent-7514</td><td>404</td><td>6527</td></tr><tr><td>2023-10-16T18:59:23.710082Z</td><td>192.168.195.158</td><td>UserAgent-9477</td><td>200</td><td>8997</td></tr><tr><td>2023-04-14T05:10:51.710082Z</td><td>192.168.16.22</td><td>UserAgent-7815</td><td>200</td><td>9640</td></tr><tr><td>2023-04-11T00:17:20.710082Z</td><td>192.168.240.165</td><td>UserAgent-4846</td><td>500</td><td>8037</td></tr><tr><td>2023-06-24T12:40:33.710082Z</td><td>192.168.102.61</td><td>UserAgent-1804</td><td>404</td><td>8028</td></tr><tr><td>2023-07-20T17:29:06.710082Z</td><td>192.168.158.241</td><td>UserAgent-9772</td><td>500</td><td>7264</td></tr><tr><td>2023-03-05T11:26:56.710082Z</td><td>192.168.176.53</td><td>UserAgent-4333</td><td>500</td><td>8277</td></tr><tr><td>2023-10-09T05:23:14.710082Z</td><td>192.168.130.12</td><td>UserAgent-2248</td><td>404</td><td>7302</td></tr><tr><td>2023-06-12T02:15:49.710082Z</td><td>192.168.172.127</td><td>UserAgent-1010</td><td>500</td><td>6631</td></tr><tr><td>2023-11-12T07:33:27.710082Z</td><td>192.168.224.222</td><td>UserAgent-5990</td><td>500</td><td>8561</td></tr><tr><td>2023-08-18T13:36:22.710082Z</td><td>192.168.238.8</td><td>UserAgent-7802</td><td>404</td><td>547</td></tr><tr><td>2024-02-14T06:45:28.710082Z</td><td>192.168.165.158</td><td>UserAgent-6899</td><td>200</td><td>4130</td></tr><tr><td>2023-04-28T20:15:17.710082Z</td><td>192.168.140.208</td><td>UserAgent-5915</td><td>404</td><td>9622</td></tr><tr><td>2023-07-25T15:16:05.710082Z</td><td>192.168.167.65</td><td>UserAgent-9251</td><td>404</td><td>6212</td></tr><tr><td>2023-11-08T20:36:38.710082Z</td><td>192.168.4.159</td><td>UserAgent-6510</td><td>200</td><td>9381</td></tr><tr><td>2024-02-20T22:05:06.710082Z</td><td>192.168.100.203</td><td>UserAgent-8513</td><td>500</td><td>7274</td></tr><tr><td>2024-01-13T18:13:34.710082Z</td><td>192.168.163.221</td><td>UserAgent-1752</td><td>200</td><td>2911</td></tr><tr><td>2023-09-20T17:31:55.710082Z</td><td>192.168.221.132</td><td>UserAgent-8507</td><td>500</td><td>4068</td></tr><tr><td>2023-03-10T08:07:28.710082Z</td><td>192.168.157.39</td><td>UserAgent-6848</td><td>404</td><td>5604</td></tr><tr><td>2023-06-11T14:26:02.710082Z</td><td>192.168.83.42</td><td>UserAgent-3266</td><td>404</td><td>4374</td></tr><tr><td>2023-06-18T10:31:07.710082Z</td><td>192.168.196.192</td><td>UserAgent-2887</td><td>500</td><td>2006</td></tr><tr><td>2023-10-19T14:21:26.710082Z</td><td>192.168.198.0</td><td>UserAgent-9437</td><td>500</td><td>9520</td></tr><tr><td>2023-11-23T01:24:17.710082Z</td><td>192.168.40.109</td><td>UserAgent-9459</td><td>200</td><td>8703</td></tr><tr><td>2023-11-28T23:14:36.710082Z</td><td>192.168.49.120</td><td>UserAgent-9770</td><td>200</td><td>5455</td></tr><tr><td>2023-12-21T10:28:31.710082Z</td><td>192.168.235.165</td><td>UserAgent-8649</td><td>500</td><td>8913</td></tr><tr><td>2023-08-25T22:21:09.710082Z</td><td>192.168.32.36</td><td>UserAgent-3989</td><td>404</td><td>2138</td></tr><tr><td>2023-07-29T16:24:53.710082Z</td><td>192.168.76.84</td><td>UserAgent-7135</td><td>500</td><td>7857</td></tr><tr><td>2023-06-22T22:22:18.710082Z</td><td>192.168.182.21</td><td>UserAgent-6987</td><td>200</td><td>2991</td></tr><tr><td>2023-12-04T16:40:56.710082Z</td><td>192.168.112.225</td><td>UserAgent-7683</td><td>500</td><td>4386</td></tr><tr><td>2024-01-04T01:23:30.710082Z</td><td>192.168.90.207</td><td>UserAgent-4212</td><td>200</td><td>6327</td></tr><tr><td>2023-07-04T22:10:16.710082Z</td><td>192.168.205.200</td><td>UserAgent-4789</td><td>500</td><td>7874</td></tr><tr><td>2023-11-30T19:45:24.710082Z</td><td>192.168.252.254</td><td>UserAgent-5292</td><td>200</td><td>1221</td></tr><tr><td>2023-10-04T06:45:16.710082Z</td><td>192.168.93.132</td><td>UserAgent-5848</td><td>500</td><td>5109</td></tr><tr><td>2023-11-28T02:24:53.710082Z</td><td>192.168.240.129</td><td>UserAgent-4264</td><td>500</td><td>7672</td></tr><tr><td>2023-05-14T10:44:59.710082Z</td><td>192.168.83.191</td><td>UserAgent-2944</td><td>404</td><td>4081</td></tr><tr><td>2023-03-28T19:42:53.710082Z</td><td>192.168.133.1</td><td>UserAgent-1210</td><td>200</td><td>6241</td></tr><tr><td>2023-11-28T19:55:46.710082Z</td><td>192.168.20.158</td><td>UserAgent-6880</td><td>200</td><td>3672</td></tr><tr><td>2023-03-25T13:40:19.710082Z</td><td>192.168.231.29</td><td>UserAgent-1066</td><td>200</td><td>2966</td></tr><tr><td>2023-04-22T17:13:53.710082Z</td><td>192.168.190.86</td><td>UserAgent-7206</td><td>404</td><td>9913</td></tr><tr><td>2023-03-27T12:49:23.710082Z</td><td>192.168.213.112</td><td>UserAgent-3606</td><td>500</td><td>4900</td></tr><tr><td>2023-03-05T08:06:44.710082Z</td><td>192.168.148.60</td><td>UserAgent-3258</td><td>500</td><td>6296</td></tr><tr><td>2023-06-06T13:48:46.710082Z</td><td>192.168.130.76</td><td>UserAgent-6831</td><td>200</td><td>8248</td></tr><tr><td>2023-07-04T03:50:57.710082Z</td><td>192.168.3.193</td><td>UserAgent-1149</td><td>500</td><td>2030</td></tr><tr><td>2023-03-24T10:10:42.710082Z</td><td>192.168.53.138</td><td>UserAgent-6427</td><td>200</td><td>8847</td></tr><tr><td>2024-01-13T03:04:17.710082Z</td><td>192.168.8.165</td><td>UserAgent-4932</td><td>200</td><td>3472</td></tr><tr><td>2024-01-16T17:07:01.710082Z</td><td>192.168.55.139</td><td>UserAgent-2515</td><td>200</td><td>9602</td></tr><tr><td>2023-07-31T23:13:38.710082Z</td><td>192.168.244.252</td><td>UserAgent-6277</td><td>404</td><td>8777</td></tr><tr><td>2023-04-12T17:12:27.710082Z</td><td>192.168.117.101</td><td>UserAgent-5363</td><td>500</td><td>1065</td></tr><tr><td>2024-02-22T19:34:27.710082Z</td><td>192.168.101.108</td><td>UserAgent-7309</td><td>404</td><td>5418</td></tr><tr><td>2023-03-07T00:22:38.710082Z</td><td>192.168.239.195</td><td>UserAgent-4465</td><td>200</td><td>4872</td></tr><tr><td>2024-02-12T05:58:44.710082Z</td><td>192.168.37.61</td><td>UserAgent-2223</td><td>200</td><td>9383</td></tr><tr><td>2023-11-27T04:42:01.710082Z</td><td>192.168.178.73</td><td>UserAgent-2170</td><td>404</td><td>1487</td></tr><tr><td>2023-03-04T23:22:56.710082Z</td><td>192.168.255.42</td><td>UserAgent-3898</td><td>500</td><td>9627</td></tr><tr><td>2023-09-05T21:11:45.710082Z</td><td>192.168.61.55</td><td>UserAgent-4936</td><td>404</td><td>341</td></tr><tr><td>2024-01-29T00:54:19.710082Z</td><td>192.168.0.131</td><td>UserAgent-2599</td><td>200</td><td>4310</td></tr><tr><td>2023-03-20T01:01:09.710082Z</td><td>192.168.39.72</td><td>UserAgent-1992</td><td>500</td><td>1543</td></tr><tr><td>2023-03-11T19:53:32.710082Z</td><td>192.168.26.5</td><td>UserAgent-9990</td><td>500</td><td>5559</td></tr><tr><td>2023-06-22T01:33:31.710082Z</td><td>192.168.133.206</td><td>UserAgent-6623</td><td>404</td><td>1604</td></tr><tr><td>2023-09-01T22:15:26.710082Z</td><td>192.168.98.35</td><td>UserAgent-6165</td><td>404</td><td>7003</td></tr><tr><td>2023-03-25T22:27:14.710082Z</td><td>192.168.171.83</td><td>UserAgent-4229</td><td>500</td><td>4011</td></tr><tr><td>2023-07-31T16:30:57.710082Z</td><td>192.168.8.231</td><td>UserAgent-5582</td><td>500</td><td>7547</td></tr><tr><td>2024-01-02T19:01:55.710082Z</td><td>192.168.47.225</td><td>UserAgent-3121</td><td>500</td><td>5333</td></tr><tr><td>2023-10-29T13:34:48.710082Z</td><td>192.168.233.2</td><td>UserAgent-4808</td><td>500</td><td>8385</td></tr><tr><td>2023-07-17T09:50:36.710082Z</td><td>192.168.15.136</td><td>UserAgent-9483</td><td>200</td><td>6763</td></tr><tr><td>2023-11-16T13:35:08.710082Z</td><td>192.168.90.252</td><td>UserAgent-8247</td><td>500</td><td>7346</td></tr><tr><td>2023-06-23T00:24:30.710082Z</td><td>192.168.22.104</td><td>UserAgent-8951</td><td>404</td><td>2663</td></tr><tr><td>2023-12-28T07:47:22.710082Z</td><td>192.168.12.107</td><td>UserAgent-3983</td><td>404</td><td>4708</td></tr><tr><td>2023-07-06T09:18:39.710082Z</td><td>192.168.186.58</td><td>UserAgent-4414</td><td>500</td><td>1221</td></tr><tr><td>2023-07-10T12:06:35.710082Z</td><td>192.168.153.225</td><td>UserAgent-1659</td><td>200</td><td>5585</td></tr><tr><td>2023-03-15T01:33:36.710082Z</td><td>192.168.128.149</td><td>UserAgent-4074</td><td>500</td><td>5280</td></tr><tr><td>2023-03-26T09:06:10.710082Z</td><td>192.168.44.234</td><td>UserAgent-8040</td><td>404</td><td>6436</td></tr><tr><td>2023-11-18T18:27:27.710082Z</td><td>192.168.224.99</td><td>UserAgent-2218</td><td>500</td><td>8284</td></tr><tr><td>2023-07-22T13:44:13.710082Z</td><td>192.168.239.24</td><td>UserAgent-6243</td><td>404</td><td>4904</td></tr><tr><td>2023-08-21T02:02:50.710082Z</td><td>192.168.218.246</td><td>UserAgent-6046</td><td>404</td><td>721</td></tr><tr><td>2024-02-28T00:25:03.710082Z</td><td>192.168.65.82</td><td>UserAgent-2418</td><td>500</td><td>2025</td></tr><tr><td>2023-05-23T10:25:48.710082Z</td><td>192.168.80.107</td><td>UserAgent-6098</td><td>200</td><td>5973</td></tr><tr><td>2023-11-19T12:58:56.710082Z</td><td>192.168.225.139</td><td>UserAgent-2995</td><td>404</td><td>7246</td></tr><tr><td>2023-08-21T15:16:29.710082Z</td><td>192.168.217.64</td><td>UserAgent-4976</td><td>500</td><td>2815</td></tr><tr><td>2023-11-24T17:44:41.710082Z</td><td>192.168.143.84</td><td>UserAgent-9489</td><td>200</td><td>2648</td></tr><tr><td>2024-02-03T07:01:45.710082Z</td><td>192.168.154.20</td><td>UserAgent-1214</td><td>200</td><td>5243</td></tr><tr><td>2023-08-25T01:34:19.710082Z</td><td>192.168.5.237</td><td>UserAgent-2697</td><td>500</td><td>6135</td></tr><tr><td>2024-01-03T19:18:37.710082Z</td><td>192.168.144.161</td><td>UserAgent-5402</td><td>200</td><td>2177</td></tr><tr><td>2024-02-12T21:39:19.710082Z</td><td>192.168.197.94</td><td>UserAgent-8120</td><td>404</td><td>6732</td></tr><tr><td>2023-08-01T03:05:49.710082Z</td><td>192.168.176.59</td><td>UserAgent-8999</td><td>500</td><td>7103</td></tr><tr><td>2023-06-02T05:51:55.710082Z</td><td>192.168.60.224</td><td>UserAgent-9975</td><td>200</td><td>9295</td></tr><tr><td>2023-12-18T10:40:24.710082Z</td><td>192.168.163.28</td><td>UserAgent-2440</td><td>200</td><td>7822</td></tr><tr><td>2023-12-29T10:53:12.710082Z</td><td>192.168.232.37</td><td>UserAgent-6390</td><td>404</td><td>8802</td></tr><tr><td>2023-08-10T08:45:20.710082Z</td><td>192.168.34.23</td><td>UserAgent-5686</td><td>404</td><td>8560</td></tr><tr><td>2023-06-02T15:32:04.710082Z</td><td>192.168.218.212</td><td>UserAgent-8347</td><td>500</td><td>8619</td></tr><tr><td>2023-11-15T06:32:17.710082Z</td><td>192.168.253.218</td><td>UserAgent-4125</td><td>500</td><td>1648</td></tr><tr><td>2023-11-10T23:19:42.710082Z</td><td>192.168.74.44</td><td>UserAgent-3883</td><td>500</td><td>4277</td></tr><tr><td>2023-09-11T11:34:56.710082Z</td><td>192.168.44.202</td><td>UserAgent-3806</td><td>500</td><td>4337</td></tr><tr><td>2023-03-25T14:46:23.710082Z</td><td>192.168.164.176</td><td>UserAgent-3640</td><td>404</td><td>1851</td></tr><tr><td>2023-11-29T09:36:14.710082Z</td><td>192.168.95.73</td><td>UserAgent-6434</td><td>500</td><td>4177</td></tr><tr><td>2023-07-15T04:32:54.710082Z</td><td>192.168.117.142</td><td>UserAgent-9310</td><td>500</td><td>5355</td></tr><tr><td>2023-11-15T04:40:00.710082Z</td><td>192.168.59.81</td><td>UserAgent-3459</td><td>500</td><td>3182</td></tr></tbody></table></div>"
      ]
     },
     "metadata": {
      "application/vnd.databricks.v1+output": {
       "addedWidgets": {},
       "aggData": [],
       "aggError": "",
       "aggOverflow": false,
       "aggSchema": [],
       "aggSeriesLimitReached": false,
       "aggType": "",
       "arguments": {},
       "columnCustomDisplayInfos": {},
       "data": [
        [
         "2023-12-23T12:33:28.710082Z",
         "192.168.252.73",
         "UserAgent-5863",
         404,
         8989
        ],
        [
         "2023-03-14T07:00:28.710082Z",
         "192.168.142.94",
         "UserAgent-9655",
         200,
         4671
        ],
        [
         "2024-02-01T01:24:11.710082Z",
         "192.168.238.242",
         "UserAgent-7686",
         200,
         2316
        ],
        [
         "2023-04-16T19:58:21.710082Z",
         "192.168.61.130",
         "UserAgent-6243",
         500,
         9813
        ],
        [
         "2024-02-11T16:13:27.710082Z",
         "192.168.133.229",
         "UserAgent-6416",
         200,
         8081
        ],
        [
         "2023-07-01T08:43:59.710082Z",
         "192.168.156.144",
         "UserAgent-3904",
         404,
         929
        ],
        [
         "2023-07-12T13:56:11.710082Z",
         "192.168.190.45",
         "UserAgent-2851",
         200,
         2709
        ],
        [
         "2023-06-17T18:06:36.710082Z",
         "192.168.42.159",
         "UserAgent-3907",
         500,
         2934
        ],
        [
         "2023-03-02T03:33:53.710082Z",
         "192.168.203.85",
         "UserAgent-6360",
         200,
         7955
        ],
        [
         "2023-08-12T04:58:15.710082Z",
         "192.168.206.168",
         "UserAgent-7090",
         200,
         9166
        ],
        [
         "2023-08-28T14:28:00.710082Z",
         "192.168.181.5",
         "UserAgent-9699",
         500,
         7709
        ],
        [
         "2023-07-02T23:40:12.710082Z",
         "192.168.46.60",
         "UserAgent-9609",
         404,
         7166
        ],
        [
         "2023-03-05T19:47:50.710082Z",
         "192.168.31.163",
         "UserAgent-7616",
         200,
         2908
        ],
        [
         "2023-10-08T11:23:19.710082Z",
         "192.168.66.22",
         "UserAgent-7530",
         200,
         433
        ],
        [
         "2023-06-06T03:05:36.710082Z",
         "192.168.156.34",
         "UserAgent-3585",
         500,
         9439
        ],
        [
         "2023-11-10T14:50:35.710082Z",
         "192.168.199.209",
         "UserAgent-6046",
         200,
         5651
        ],
        [
         "2023-12-28T17:38:01.710082Z",
         "192.168.43.222",
         "UserAgent-3349",
         500,
         2626
        ],
        [
         "2023-11-13T16:01:16.710082Z",
         "192.168.111.82",
         "UserAgent-8245",
         500,
         4937
        ],
        [
         "2023-04-29T09:28:24.710082Z",
         "192.168.219.88",
         "UserAgent-6159",
         200,
         750
        ],
        [
         "2023-09-06T02:14:35.710082Z",
         "192.168.31.183",
         "UserAgent-9817",
         200,
         6819
        ],
        [
         "2023-12-27T06:07:26.710082Z",
         "192.168.69.119",
         "UserAgent-9703",
         500,
         6140
        ],
        [
         "2023-06-06T13:49:53.710082Z",
         "192.168.253.0",
         "UserAgent-1606",
         500,
         6805
        ],
        [
         "2024-01-27T09:05:56.710082Z",
         "192.168.104.252",
         "UserAgent-5301",
         200,
         2813
        ],
        [
         "2023-12-13T13:08:09.710082Z",
         "192.168.125.11",
         "UserAgent-3939",
         500,
         1406
        ],
        [
         "2024-01-13T21:34:55.710082Z",
         "192.168.68.220",
         "UserAgent-9309",
         200,
         8040
        ],
        [
         "2024-02-07T08:57:07.710082Z",
         "192.168.140.104",
         "UserAgent-4688",
         200,
         6594
        ],
        [
         "2023-03-07T23:12:25.710082Z",
         "192.168.234.44",
         "UserAgent-9369",
         200,
         5130
        ],
        [
         "2023-12-16T05:17:59.710082Z",
         "192.168.95.19",
         "UserAgent-6222",
         500,
         118
        ],
        [
         "2023-10-14T03:34:12.710082Z",
         "192.168.106.42",
         "UserAgent-6103",
         200,
         7565
        ],
        [
         "2023-08-06T08:27:06.710082Z",
         "192.168.149.55",
         "UserAgent-1300",
         404,
         3688
        ],
        [
         "2023-06-10T00:10:05.710082Z",
         "192.168.242.250",
         "UserAgent-8243",
         200,
         6483
        ],
        [
         "2023-08-15T02:38:43.710082Z",
         "192.168.113.101",
         "UserAgent-1439",
         404,
         8877
        ],
        [
         "2023-03-14T09:46:55.710082Z",
         "192.168.243.92",
         "UserAgent-5296",
         500,
         5389
        ],
        [
         "2023-10-07T19:19:40.710082Z",
         "192.168.19.52",
         "UserAgent-7066",
         200,
         5348
        ],
        [
         "2023-07-25T05:15:50.710082Z",
         "192.168.23.96",
         "UserAgent-6157",
         500,
         7992
        ],
        [
         "2023-10-18T09:41:47.710082Z",
         "192.168.239.25",
         "UserAgent-3945",
         404,
         7109
        ],
        [
         "2023-10-23T11:05:59.710082Z",
         "192.168.88.152",
         "UserAgent-2604",
         404,
         2455
        ],
        [
         "2023-09-12T06:05:00.710082Z",
         "192.168.230.107",
         "UserAgent-5734",
         500,
         8899
        ],
        [
         "2023-09-27T10:10:52.710082Z",
         "192.168.160.24",
         "UserAgent-9935",
         404,
         7212
        ],
        [
         "2023-09-19T04:39:24.710082Z",
         "192.168.175.71",
         "UserAgent-4855",
         500,
         5731
        ],
        [
         "2023-04-25T21:54:51.710082Z",
         "192.168.244.175",
         "UserAgent-9108",
         404,
         8399
        ],
        [
         "2023-09-22T16:17:24.710082Z",
         "192.168.121.225",
         "UserAgent-5002",
         200,
         758
        ],
        [
         "2023-09-14T17:03:51.710082Z",
         "192.168.114.160",
         "UserAgent-5964",
         404,
         3604
        ],
        [
         "2023-12-20T18:20:37.710082Z",
         "192.168.181.190",
         "UserAgent-9163",
         404,
         9311
        ],
        [
         "2024-01-04T09:47:27.710082Z",
         "192.168.130.114",
         "UserAgent-4407",
         404,
         421
        ],
        [
         "2023-06-30T23:33:44.710082Z",
         "192.168.62.163",
         "UserAgent-3979",
         404,
         3860
        ],
        [
         "2024-01-05T16:35:10.710082Z",
         "192.168.221.16",
         "UserAgent-5251",
         500,
         7801
        ],
        [
         "2023-10-12T00:21:14.710082Z",
         "192.168.93.27",
         "UserAgent-7237",
         500,
         1354
        ],
        [
         "2024-01-05T13:15:56.710082Z",
         "192.168.96.51",
         "UserAgent-7555",
         500,
         4923
        ],
        [
         "2023-10-18T12:09:13.710082Z",
         "192.168.228.131",
         "UserAgent-5740",
         500,
         5483
        ],
        [
         "2023-03-12T23:34:32.710082Z",
         "192.168.131.50",
         "UserAgent-9584",
         200,
         2750
        ],
        [
         "2023-03-17T22:21:22.710082Z",
         "192.168.209.16",
         "UserAgent-8213",
         200,
         4321
        ],
        [
         "2023-10-23T02:13:58.710082Z",
         "192.168.228.88",
         "UserAgent-2988",
         500,
         2787
        ],
        [
         "2023-07-27T06:39:43.710082Z",
         "192.168.45.78",
         "UserAgent-9419",
         200,
         803
        ],
        [
         "2023-11-17T17:41:33.710082Z",
         "192.168.42.66",
         "UserAgent-5107",
         500,
         3116
        ],
        [
         "2023-04-06T15:25:59.710082Z",
         "192.168.245.187",
         "UserAgent-7211",
         404,
         9641
        ],
        [
         "2023-10-22T10:28:25.710082Z",
         "192.168.113.15",
         "UserAgent-6373",
         500,
         5674
        ],
        [
         "2023-12-23T00:09:13.710082Z",
         "192.168.78.101",
         "UserAgent-2253",
         200,
         2781
        ],
        [
         "2023-08-04T03:57:29.710082Z",
         "192.168.172.231",
         "UserAgent-8880",
         500,
         9852
        ],
        [
         "2024-01-28T00:49:45.710082Z",
         "192.168.124.69",
         "UserAgent-2196",
         404,
         7893
        ],
        [
         "2023-07-16T18:12:29.710082Z",
         "192.168.97.140",
         "UserAgent-5518",
         200,
         4700
        ],
        [
         "2023-11-16T04:16:15.710082Z",
         "192.168.57.218",
         "UserAgent-7075",
         200,
         9836
        ],
        [
         "2023-11-22T01:04:05.710082Z",
         "192.168.69.240",
         "UserAgent-2613",
         404,
         5466
        ],
        [
         "2024-02-11T12:36:31.710082Z",
         "192.168.92.147",
         "UserAgent-4123",
         200,
         5668
        ],
        [
         "2023-10-10T01:59:07.710082Z",
         "192.168.173.240",
         "UserAgent-8780",
         500,
         8361
        ],
        [
         "2023-05-02T00:08:35.710082Z",
         "192.168.100.208",
         "UserAgent-7523",
         404,
         8845
        ],
        [
         "2023-04-26T06:04:22.710082Z",
         "192.168.18.207",
         "UserAgent-1406",
         500,
         703
        ],
        [
         "2023-05-17T16:54:40.710082Z",
         "192.168.206.211",
         "UserAgent-4129",
         404,
         5437
        ],
        [
         "2023-03-02T13:07:44.710082Z",
         "192.168.248.143",
         "UserAgent-1689",
         404,
         7830
        ],
        [
         "2023-07-09T04:05:29.710082Z",
         "192.168.13.253",
         "UserAgent-6184",
         200,
         2064
        ],
        [
         "2023-03-27T20:49:31.710082Z",
         "192.168.168.101",
         "UserAgent-2971",
         500,
         6387
        ],
        [
         "2023-11-06T19:08:38.710082Z",
         "192.168.181.245",
         "UserAgent-9213",
         200,
         1926
        ],
        [
         "2023-09-18T04:33:40.710082Z",
         "192.168.68.252",
         "UserAgent-7932",
         500,
         8728
        ],
        [
         "2023-05-12T18:31:07.710082Z",
         "192.168.234.70",
         "UserAgent-1027",
         500,
         377
        ],
        [
         "2023-06-12T04:45:58.710082Z",
         "192.168.135.83",
         "UserAgent-2354",
         200,
         5855
        ],
        [
         "2024-01-19T12:32:19.710082Z",
         "192.168.24.188",
         "UserAgent-2462",
         200,
         6114
        ],
        [
         "2023-09-20T13:55:40.710082Z",
         "192.168.21.36",
         "UserAgent-5182",
         200,
         9797
        ],
        [
         "2023-08-02T06:34:36.710082Z",
         "192.168.133.39",
         "UserAgent-4489",
         404,
         2846
        ],
        [
         "2023-09-16T21:20:46.710082Z",
         "192.168.128.229",
         "UserAgent-5049",
         500,
         950
        ],
        [
         "2023-09-18T14:03:21.710082Z",
         "192.168.57.223",
         "UserAgent-5616",
         404,
         8374
        ],
        [
         "2024-02-14T11:44:06.710082Z",
         "192.168.27.186",
         "UserAgent-3482",
         404,
         9990
        ],
        [
         "2023-10-17T10:04:04.710082Z",
         "192.168.236.252",
         "UserAgent-3286",
         500,
         356
        ],
        [
         "2023-03-29T03:43:44.710082Z",
         "192.168.240.62",
         "UserAgent-3154",
         200,
         2504
        ],
        [
         "2023-09-10T12:34:54.710082Z",
         "192.168.0.91",
         "UserAgent-1614",
         404,
         5443
        ],
        [
         "2023-10-11T12:33:36.710082Z",
         "192.168.250.21",
         "UserAgent-4085",
         404,
         6301
        ],
        [
         "2023-07-10T04:01:07.710082Z",
         "192.168.67.57",
         "UserAgent-1348",
         404,
         9712
        ],
        [
         "2023-07-21T08:18:16.710082Z",
         "192.168.39.203",
         "UserAgent-8343",
         200,
         3311
        ],
        [
         "2024-01-13T15:01:27.710082Z",
         "192.168.77.105",
         "UserAgent-6424",
         404,
         1432
        ],
        [
         "2023-12-15T19:11:12.710082Z",
         "192.168.195.212",
         "UserAgent-5355",
         404,
         9001
        ],
        [
         "2023-07-02T21:14:35.710082Z",
         "192.168.116.222",
         "UserAgent-6975",
         500,
         7751
        ],
        [
         "2023-11-23T22:59:44.710082Z",
         "192.168.199.193",
         "UserAgent-8014",
         404,
         8702
        ],
        [
         "2023-04-30T16:14:16.710082Z",
         "192.168.171.18",
         "UserAgent-1712",
         404,
         2793
        ],
        [
         "2023-05-18T18:05:39.710082Z",
         "192.168.199.216",
         "UserAgent-6103",
         200,
         9795
        ],
        [
         "2023-06-17T06:53:58.710082Z",
         "192.168.249.184",
         "UserAgent-3030",
         200,
         8661
        ],
        [
         "2024-01-03T22:09:13.710082Z",
         "192.168.28.173",
         "UserAgent-4969",
         404,
         9702
        ],
        [
         "2024-02-19T13:58:24.710082Z",
         "192.168.133.120",
         "UserAgent-5400",
         404,
         3293
        ],
        [
         "2023-11-25T16:48:52.710082Z",
         "192.168.112.224",
         "UserAgent-1252",
         404,
         2283
        ],
        [
         "2023-04-03T16:59:48.710082Z",
         "192.168.222.227",
         "UserAgent-1714",
         500,
         8521
        ],
        [
         "2023-06-09T14:11:14.710082Z",
         "192.168.2.205",
         "UserAgent-9006",
         200,
         3685
        ],
        [
         "2024-01-18T05:28:54.710082Z",
         "192.168.31.101",
         "UserAgent-8784",
         500,
         4162
        ],
        [
         "2023-05-10T22:26:05.710082Z",
         "192.168.185.167",
         "UserAgent-9453",
         500,
         5498
        ],
        [
         "2023-06-06T15:45:22.710082Z",
         "192.168.211.202",
         "UserAgent-5098",
         200,
         1473
        ],
        [
         "2023-08-23T00:38:34.710082Z",
         "192.168.111.190",
         "UserAgent-9113",
         500,
         5789
        ],
        [
         "2023-09-04T21:04:46.710082Z",
         "192.168.155.154",
         "UserAgent-6667",
         404,
         4374
        ],
        [
         "2023-09-14T23:41:33.710082Z",
         "192.168.130.146",
         "UserAgent-1357",
         500,
         7438
        ],
        [
         "2023-09-01T16:58:17.710082Z",
         "192.168.165.117",
         "UserAgent-5768",
         404,
         5782
        ],
        [
         "2024-02-16T13:43:27.710082Z",
         "192.168.124.77",
         "UserAgent-4709",
         500,
         3695
        ],
        [
         "2024-02-02T08:41:05.710082Z",
         "192.168.199.78",
         "UserAgent-8012",
         404,
         241
        ],
        [
         "2023-08-01T09:35:43.710082Z",
         "192.168.241.181",
         "UserAgent-1805",
         200,
         5677
        ],
        [
         "2024-02-10T09:29:13.710082Z",
         "192.168.69.49",
         "UserAgent-6574",
         500,
         171
        ],
        [
         "2024-01-12T14:40:43.710082Z",
         "192.168.135.211",
         "UserAgent-7482",
         500,
         9928
        ],
        [
         "2023-10-08T22:30:33.710082Z",
         "192.168.65.215",
         "UserAgent-8885",
         404,
         1076
        ],
        [
         "2023-05-20T14:12:39.710082Z",
         "192.168.215.12",
         "UserAgent-7216",
         500,
         3025
        ],
        [
         "2023-12-31T23:33:07.710082Z",
         "192.168.112.38",
         "UserAgent-6143",
         404,
         1351
        ],
        [
         "2023-08-19T02:36:38.710082Z",
         "192.168.131.192",
         "UserAgent-7019",
         200,
         5416
        ],
        [
         "2023-05-12T18:09:03.710082Z",
         "192.168.198.20",
         "UserAgent-5816",
         200,
         7274
        ],
        [
         "2023-09-24T03:05:17.710082Z",
         "192.168.159.172",
         "UserAgent-9895",
         200,
         5195
        ],
        [
         "2023-07-07T19:22:36.710082Z",
         "192.168.155.53",
         "UserAgent-6799",
         200,
         4090
        ],
        [
         "2024-01-02T12:51:23.710082Z",
         "192.168.93.114",
         "UserAgent-4592",
         200,
         9915
        ],
        [
         "2023-05-06T19:29:06.710082Z",
         "192.168.115.255",
         "UserAgent-7508",
         404,
         4283
        ],
        [
         "2023-10-02T09:20:39.710082Z",
         "192.168.23.28",
         "UserAgent-9211",
         404,
         2368
        ],
        [
         "2023-09-16T08:43:19.710082Z",
         "192.168.136.146",
         "UserAgent-9492",
         500,
         4802
        ],
        [
         "2024-02-18T08:43:58.710082Z",
         "192.168.225.93",
         "UserAgent-9688",
         200,
         4447
        ],
        [
         "2024-02-09T16:54:16.710082Z",
         "192.168.187.46",
         "UserAgent-9082",
         200,
         2807
        ],
        [
         "2023-12-21T12:20:56.710082Z",
         "192.168.95.113",
         "UserAgent-7292",
         404,
         7804
        ],
        [
         "2023-04-22T09:16:07.710082Z",
         "192.168.62.22",
         "UserAgent-3445",
         500,
         233
        ],
        [
         "2023-05-02T15:20:22.710082Z",
         "192.168.69.251",
         "UserAgent-6663",
         200,
         9605
        ],
        [
         "2024-02-07T05:11:51.710082Z",
         "192.168.75.254",
         "UserAgent-2381",
         404,
         3837
        ],
        [
         "2023-12-10T07:03:18.710082Z",
         "192.168.62.201",
         "UserAgent-2611",
         200,
         4770
        ],
        [
         "2023-09-05T14:12:31.710082Z",
         "192.168.236.49",
         "UserAgent-8856",
         200,
         7276
        ],
        [
         "2023-12-02T13:28:36.710082Z",
         "192.168.245.202",
         "UserAgent-1185",
         500,
         6622
        ],
        [
         "2023-11-03T04:10:25.710082Z",
         "192.168.149.92",
         "UserAgent-9723",
         200,
         8847
        ],
        [
         "2023-03-24T16:52:53.710082Z",
         "192.168.246.22",
         "UserAgent-3177",
         404,
         8286
        ],
        [
         "2023-07-15T00:12:12.710082Z",
         "192.168.176.71",
         "UserAgent-2218",
         500,
         2480
        ],
        [
         "2024-02-09T17:09:50.710082Z",
         "192.168.8.190",
         "UserAgent-1203",
         200,
         6931
        ],
        [
         "2023-06-10T06:15:08.710082Z",
         "192.168.34.62",
         "UserAgent-3056",
         200,
         6366
        ],
        [
         "2023-05-23T03:23:52.710082Z",
         "192.168.153.93",
         "UserAgent-2920",
         404,
         1605
        ],
        [
         "2023-09-28T19:04:11.710082Z",
         "192.168.191.8",
         "UserAgent-3697",
         404,
         8029
        ],
        [
         "2023-05-20T20:56:31.710082Z",
         "192.168.89.236",
         "UserAgent-1087",
         404,
         2354
        ],
        [
         "2023-10-04T06:00:59.710082Z",
         "192.168.148.180",
         "UserAgent-2740",
         200,
         1327
        ],
        [
         "2023-10-03T18:03:21.710082Z",
         "192.168.109.121",
         "UserAgent-8572",
         200,
         6182
        ],
        [
         "2023-03-24T02:12:39.710082Z",
         "192.168.124.17",
         "UserAgent-3030",
         404,
         945
        ],
        [
         "2023-08-13T10:44:42.710082Z",
         "192.168.160.247",
         "UserAgent-5697",
         500,
         7584
        ],
        [
         "2023-07-13T10:14:58.710082Z",
         "192.168.176.226",
         "UserAgent-4597",
         500,
         630
        ],
        [
         "2023-12-05T01:41:42.710082Z",
         "192.168.190.80",
         "UserAgent-7065",
         200,
         8658
        ],
        [
         "2023-03-21T19:32:46.710082Z",
         "192.168.164.42",
         "UserAgent-5697",
         404,
         8818
        ],
        [
         "2024-02-19T12:14:43.710082Z",
         "192.168.237.164",
         "UserAgent-5891",
         200,
         3276
        ],
        [
         "2023-11-21T12:00:07.710082Z",
         "192.168.236.176",
         "UserAgent-8443",
         404,
         9506
        ],
        [
         "2023-08-24T01:06:06.710082Z",
         "192.168.235.18",
         "UserAgent-3564",
         200,
         2893
        ],
        [
         "2024-01-26T16:51:17.710082Z",
         "192.168.115.171",
         "UserAgent-9352",
         500,
         2672
        ],
        [
         "2023-08-24T14:50:26.710082Z",
         "192.168.65.104",
         "UserAgent-5519",
         200,
         4525
        ],
        [
         "2023-05-22T19:54:14.710082Z",
         "192.168.56.22",
         "UserAgent-9262",
         200,
         8221
        ],
        [
         "2023-09-30T18:02:14.710082Z",
         "192.168.68.229",
         "UserAgent-8851",
         200,
         6110
        ],
        [
         "2023-08-28T10:51:05.710082Z",
         "192.168.115.32",
         "UserAgent-1014",
         200,
         6105
        ],
        [
         "2023-05-28T22:55:39.710082Z",
         "192.168.177.23",
         "UserAgent-9347",
         200,
         8891
        ],
        [
         "2024-01-10T03:19:05.710082Z",
         "192.168.21.121",
         "UserAgent-2880",
         500,
         2075
        ],
        [
         "2023-06-05T13:14:49.710082Z",
         "192.168.39.85",
         "UserAgent-1986",
         500,
         4272
        ],
        [
         "2023-11-18T00:31:48.710082Z",
         "192.168.181.144",
         "UserAgent-2561",
         500,
         2317
        ],
        [
         "2023-07-14T23:20:39.710082Z",
         "192.168.67.178",
         "UserAgent-3717",
         404,
         9315
        ],
        [
         "2023-10-01T21:10:18.710082Z",
         "192.168.62.173",
         "UserAgent-1691",
         500,
         6663
        ],
        [
         "2023-07-31T03:59:35.710082Z",
         "192.168.112.69",
         "UserAgent-5791",
         404,
         6453
        ],
        [
         "2023-05-13T10:48:51.710082Z",
         "192.168.69.8",
         "UserAgent-9597",
         200,
         2381
        ],
        [
         "2023-05-08T10:13:43.710082Z",
         "192.168.207.251",
         "UserAgent-3303",
         404,
         5837
        ],
        [
         "2023-05-24T19:49:54.710082Z",
         "192.168.87.157",
         "UserAgent-2802",
         404,
         5938
        ],
        [
         "2023-03-27T00:49:36.710082Z",
         "192.168.126.107",
         "UserAgent-9531",
         404,
         6440
        ],
        [
         "2023-07-09T14:50:45.710082Z",
         "192.168.165.18",
         "UserAgent-2830",
         200,
         1466
        ],
        [
         "2023-06-09T05:53:00.710082Z",
         "192.168.86.178",
         "UserAgent-6031",
         200,
         3777
        ],
        [
         "2024-02-17T10:12:51.710082Z",
         "192.168.170.238",
         "UserAgent-1956",
         404,
         6337
        ],
        [
         "2023-11-18T12:24:42.710082Z",
         "192.168.202.253",
         "UserAgent-2536",
         500,
         9564
        ],
        [
         "2024-02-19T09:06:50.710082Z",
         "192.168.67.138",
         "UserAgent-7240",
         404,
         611
        ],
        [
         "2023-03-30T03:10:03.710082Z",
         "192.168.70.28",
         "UserAgent-2113",
         404,
         4500
        ],
        [
         "2023-08-29T15:38:43.710082Z",
         "192.168.163.178",
         "UserAgent-4675",
         404,
         2825
        ],
        [
         "2023-05-11T01:05:34.710082Z",
         "192.168.130.80",
         "UserAgent-9867",
         404,
         9836
        ],
        [
         "2023-06-04T19:06:03.710082Z",
         "192.168.135.140",
         "UserAgent-3863",
         404,
         6539
        ],
        [
         "2023-11-29T05:24:39.710082Z",
         "192.168.128.108",
         "UserAgent-1153",
         200,
         9644
        ],
        [
         "2023-06-28T01:48:53.710082Z",
         "192.168.219.250",
         "UserAgent-5885",
         404,
         3739
        ],
        [
         "2024-02-18T04:24:29.710082Z",
         "192.168.87.200",
         "UserAgent-2169",
         200,
         187
        ],
        [
         "2023-10-24T20:38:02.710082Z",
         "192.168.145.200",
         "UserAgent-9967",
         500,
         847
        ],
        [
         "2023-10-15T17:56:28.710082Z",
         "192.168.23.225",
         "UserAgent-2968",
         200,
         6586
        ],
        [
         "2023-06-02T23:24:07.710082Z",
         "192.168.251.254",
         "UserAgent-9574",
         500,
         9695
        ],
        [
         "2023-06-27T14:17:39.710082Z",
         "192.168.60.221",
         "UserAgent-7548",
         200,
         7616
        ],
        [
         "2023-04-25T20:28:15.710082Z",
         "192.168.13.195",
         "UserAgent-6338",
         404,
         8533
        ],
        [
         "2023-09-27T03:59:32.710082Z",
         "192.168.197.215",
         "UserAgent-8946",
         500,
         9573
        ],
        [
         "2023-07-24T16:02:18.710082Z",
         "192.168.7.133",
         "UserAgent-7699",
         500,
         6917
        ],
        [
         "2023-02-28T23:42:37.710082Z",
         "192.168.26.135",
         "UserAgent-7426",
         404,
         3222
        ],
        [
         "2023-12-11T13:23:13.710082Z",
         "192.168.97.242",
         "UserAgent-2529",
         200,
         831
        ],
        [
         "2023-10-20T21:10:23.710082Z",
         "192.168.72.107",
         "UserAgent-7959",
         200,
         6022
        ],
        [
         "2023-03-04T11:51:51.710082Z",
         "192.168.167.93",
         "UserAgent-8168",
         404,
         5457
        ],
        [
         "2024-01-12T15:40:53.710082Z",
         "192.168.16.34",
         "UserAgent-4349",
         500,
         9602
        ],
        [
         "2023-06-14T22:45:13.710082Z",
         "192.168.173.134",
         "UserAgent-5117",
         200,
         4907
        ],
        [
         "2023-11-30T18:31:43.710082Z",
         "192.168.200.21",
         "UserAgent-3026",
         200,
         3996
        ],
        [
         "2023-05-27T10:31:01.710082Z",
         "192.168.198.102",
         "UserAgent-4147",
         404,
         661
        ],
        [
         "2023-06-28T15:23:39.710082Z",
         "192.168.34.83",
         "UserAgent-2558",
         200,
         5223
        ],
        [
         "2023-05-24T15:54:28.710082Z",
         "192.168.101.113",
         "UserAgent-5329",
         404,
         6698
        ],
        [
         "2024-01-24T11:37:06.710082Z",
         "192.168.204.3",
         "UserAgent-4054",
         200,
         3336
        ],
        [
         "2023-11-17T05:53:13.710082Z",
         "192.168.133.121",
         "UserAgent-8532",
         500,
         9651
        ],
        [
         "2023-11-11T16:17:25.710082Z",
         "192.168.22.187",
         "UserAgent-4513",
         200,
         823
        ],
        [
         "2023-08-28T11:35:39.710082Z",
         "192.168.15.81",
         "UserAgent-6271",
         200,
         6315
        ],
        [
         "2023-06-17T02:41:11.710082Z",
         "192.168.220.211",
         "UserAgent-6712",
         200,
         3179
        ],
        [
         "2023-04-18T02:53:02.710082Z",
         "192.168.204.42",
         "UserAgent-4807",
         404,
         7939
        ],
        [
         "2023-05-27T00:44:01.710082Z",
         "192.168.214.208",
         "UserAgent-9480",
         200,
         2594
        ],
        [
         "2023-08-26T08:53:14.710082Z",
         "192.168.170.178",
         "UserAgent-5739",
         500,
         8095
        ],
        [
         "2023-07-01T12:53:44.710082Z",
         "192.168.251.224",
         "UserAgent-5235",
         404,
         9610
        ],
        [
         "2023-10-15T15:35:57.710082Z",
         "192.168.47.217",
         "UserAgent-4637",
         500,
         674
        ],
        [
         "2023-12-29T11:49:08.710082Z",
         "192.168.177.244",
         "UserAgent-8318",
         200,
         9382
        ],
        [
         "2023-04-10T01:37:23.710082Z",
         "192.168.20.248",
         "UserAgent-1424",
         404,
         4565
        ],
        [
         "2023-03-04T19:44:01.710082Z",
         "192.168.89.0",
         "UserAgent-2213",
         500,
         5843
        ],
        [
         "2024-01-04T09:54:41.710082Z",
         "192.168.70.4",
         "UserAgent-8115",
         404,
         8297
        ],
        [
         "2023-06-04T06:51:35.710082Z",
         "192.168.16.235",
         "UserAgent-6757",
         200,
         2932
        ],
        [
         "2023-11-17T06:08:45.710082Z",
         "192.168.150.205",
         "UserAgent-6070",
         200,
         5180
        ],
        [
         "2023-04-30T18:31:41.710082Z",
         "192.168.119.34",
         "UserAgent-4024",
         404,
         1896
        ],
        [
         "2023-05-21T00:35:37.710082Z",
         "192.168.167.79",
         "UserAgent-9544",
         404,
         1584
        ],
        [
         "2023-03-26T23:03:34.710082Z",
         "192.168.231.49",
         "UserAgent-9495",
         404,
         1063
        ],
        [
         "2023-04-16T05:19:44.710082Z",
         "192.168.222.89",
         "UserAgent-2774",
         404,
         6859
        ],
        [
         "2023-11-19T04:06:26.710082Z",
         "192.168.195.58",
         "UserAgent-7718",
         500,
         9745
        ],
        [
         "2023-08-22T04:42:07.710082Z",
         "192.168.19.134",
         "UserAgent-3113",
         404,
         7268
        ],
        [
         "2023-12-04T21:01:13.710082Z",
         "192.168.10.97",
         "UserAgent-7920",
         200,
         8953
        ],
        [
         "2023-06-08T02:49:49.710082Z",
         "192.168.22.151",
         "UserAgent-5262",
         200,
         3570
        ],
        [
         "2023-04-20T15:29:46.710082Z",
         "192.168.87.252",
         "UserAgent-3281",
         500,
         3129
        ],
        [
         "2023-09-23T08:09:36.710082Z",
         "192.168.195.226",
         "UserAgent-7283",
         404,
         7651
        ],
        [
         "2023-08-06T17:42:15.710082Z",
         "192.168.62.48",
         "UserAgent-7098",
         200,
         9421
        ],
        [
         "2023-06-16T02:29:30.710082Z",
         "192.168.49.62",
         "UserAgent-9680",
         500,
         2715
        ],
        [
         "2023-03-10T15:05:16.710082Z",
         "192.168.8.109",
         "UserAgent-7854",
         404,
         6635
        ],
        [
         "2023-08-27T00:27:56.710082Z",
         "192.168.40.137",
         "UserAgent-8228",
         200,
         6025
        ],
        [
         "2023-10-29T06:52:51.710082Z",
         "192.168.129.34",
         "UserAgent-8812",
         404,
         8383
        ],
        [
         "2023-08-14T01:08:51.710082Z",
         "192.168.113.204",
         "UserAgent-4272",
         404,
         5181
        ],
        [
         "2023-07-10T23:40:50.710082Z",
         "192.168.238.106",
         "UserAgent-9649",
         404,
         7268
        ],
        [
         "2024-02-04T17:13:16.710082Z",
         "192.168.35.254",
         "UserAgent-1925",
         500,
         5112
        ],
        [
         "2023-09-04T20:19:29.710082Z",
         "192.168.1.171",
         "UserAgent-8464",
         500,
         2351
        ],
        [
         "2024-01-17T18:08:12.710082Z",
         "192.168.117.10",
         "UserAgent-2994",
         500,
         2313
        ],
        [
         "2023-10-24T10:11:00.710082Z",
         "192.168.190.217",
         "UserAgent-7148",
         404,
         9102
        ],
        [
         "2023-03-16T10:59:56.710082Z",
         "192.168.241.148",
         "UserAgent-2180",
         200,
         5145
        ],
        [
         "2023-05-20T17:06:53.710082Z",
         "192.168.0.183",
         "UserAgent-6512",
         200,
         6854
        ],
        [
         "2023-08-12T19:27:43.710082Z",
         "192.168.47.116",
         "UserAgent-9467",
         500,
         5634
        ],
        [
         "2023-09-20T17:07:44.710082Z",
         "192.168.30.104",
         "UserAgent-8887",
         200,
         4752
        ],
        [
         "2024-01-28T04:48:32.710082Z",
         "192.168.130.31",
         "UserAgent-2996",
         404,
         9703
        ],
        [
         "2023-05-29T10:40:16.710082Z",
         "192.168.212.128",
         "UserAgent-3242",
         500,
         7940
        ],
        [
         "2023-06-24T07:09:25.710082Z",
         "192.168.157.247",
         "UserAgent-8769",
         404,
         248
        ],
        [
         "2023-07-14T02:54:14.710082Z",
         "192.168.201.183",
         "UserAgent-4691",
         404,
         6950
        ],
        [
         "2023-10-22T04:33:17.710082Z",
         "192.168.205.20",
         "UserAgent-7256",
         404,
         6299
        ],
        [
         "2024-01-24T17:43:24.710082Z",
         "192.168.59.199",
         "UserAgent-9432",
         200,
         3534
        ],
        [
         "2023-12-08T02:03:58.710082Z",
         "192.168.67.230",
         "UserAgent-7678",
         200,
         4428
        ],
        [
         "2023-12-07T22:09:50.710082Z",
         "192.168.116.18",
         "UserAgent-4633",
         200,
         5534
        ],
        [
         "2023-09-04T03:31:20.710082Z",
         "192.168.30.205",
         "UserAgent-3666",
         500,
         7858
        ],
        [
         "2023-03-18T09:51:31.710082Z",
         "192.168.243.252",
         "UserAgent-6461",
         404,
         7982
        ],
        [
         "2024-01-01T21:44:51.710082Z",
         "192.168.12.244",
         "UserAgent-2155",
         200,
         5877
        ],
        [
         "2023-05-02T05:56:22.710082Z",
         "192.168.21.73",
         "UserAgent-4459",
         500,
         1241
        ],
        [
         "2023-10-31T17:13:28.710082Z",
         "192.168.112.70",
         "UserAgent-2390",
         404,
         724
        ],
        [
         "2023-11-22T04:14:14.710082Z",
         "192.168.102.28",
         "UserAgent-9152",
         404,
         8222
        ],
        [
         "2024-01-10T09:46:27.710082Z",
         "192.168.235.118",
         "UserAgent-5403",
         500,
         6827
        ],
        [
         "2023-05-07T13:18:20.710082Z",
         "192.168.173.16",
         "UserAgent-2617",
         200,
         6631
        ],
        [
         "2023-11-01T21:38:22.710082Z",
         "192.168.179.225",
         "UserAgent-4896",
         200,
         2512
        ],
        [
         "2023-12-12T17:35:11.710082Z",
         "192.168.75.73",
         "UserAgent-4048",
         200,
         1741
        ],
        [
         "2023-12-15T19:27:20.710082Z",
         "192.168.76.34",
         "UserAgent-7392",
         200,
         3127
        ],
        [
         "2023-12-19T00:12:58.710082Z",
         "192.168.132.71",
         "UserAgent-4970",
         200,
         7101
        ],
        [
         "2024-01-30T10:12:58.710082Z",
         "192.168.94.29",
         "UserAgent-7581",
         200,
         1402
        ],
        [
         "2023-03-26T15:24:09.710082Z",
         "192.168.161.102",
         "UserAgent-1203",
         500,
         6392
        ],
        [
         "2023-05-17T04:15:30.710082Z",
         "192.168.98.183",
         "UserAgent-6716",
         404,
         3910
        ],
        [
         "2023-04-13T13:28:04.710082Z",
         "192.168.113.226",
         "UserAgent-5167",
         404,
         2417
        ],
        [
         "2023-03-17T21:41:23.710082Z",
         "192.168.236.28",
         "UserAgent-8524",
         404,
         7886
        ],
        [
         "2024-01-24T18:05:43.710082Z",
         "192.168.168.125",
         "UserAgent-9900",
         200,
         4036
        ],
        [
         "2023-05-14T20:14:02.710082Z",
         "192.168.235.234",
         "UserAgent-4932",
         200,
         3176
        ],
        [
         "2023-09-24T12:05:39.710082Z",
         "192.168.119.54",
         "UserAgent-3990",
         404,
         7873
        ],
        [
         "2023-12-11T01:52:33.710082Z",
         "192.168.119.243",
         "UserAgent-8922",
         404,
         1412
        ],
        [
         "2023-05-19T06:36:50.710082Z",
         "192.168.71.137",
         "UserAgent-3547",
         404,
         5752
        ],
        [
         "2023-12-14T16:05:41.710082Z",
         "192.168.76.227",
         "UserAgent-2627",
         500,
         2326
        ],
        [
         "2023-06-11T23:49:28.710082Z",
         "192.168.234.24",
         "UserAgent-7712",
         404,
         461
        ],
        [
         "2023-12-24T20:58:57.710082Z",
         "192.168.0.246",
         "UserAgent-9149",
         404,
         8887
        ],
        [
         "2023-04-03T21:56:08.710082Z",
         "192.168.177.18",
         "UserAgent-9040",
         500,
         2935
        ],
        [
         "2023-08-02T07:45:33.710082Z",
         "192.168.12.138",
         "UserAgent-1916",
         404,
         114
        ],
        [
         "2023-06-29T14:50:14.710082Z",
         "192.168.236.31",
         "UserAgent-2078",
         404,
         3248
        ],
        [
         "2023-12-26T07:27:41.710082Z",
         "192.168.158.214",
         "UserAgent-7650",
         404,
         5374
        ],
        [
         "2023-09-03T05:39:40.710082Z",
         "192.168.72.12",
         "UserAgent-1586",
         200,
         1016
        ],
        [
         "2024-01-04T13:55:46.710082Z",
         "192.168.28.163",
         "UserAgent-8447",
         500,
         3048
        ],
        [
         "2023-10-29T12:25:01.710082Z",
         "192.168.70.47",
         "UserAgent-9816",
         500,
         7866
        ],
        [
         "2023-11-29T05:10:41.710082Z",
         "192.168.177.208",
         "UserAgent-4565",
         500,
         857
        ],
        [
         "2023-07-16T07:11:27.710082Z",
         "192.168.225.105",
         "UserAgent-5255",
         500,
         987
        ],
        [
         "2024-02-02T14:06:02.710082Z",
         "192.168.146.79",
         "UserAgent-1936",
         404,
         6177
        ],
        [
         "2024-01-08T11:35:56.710082Z",
         "192.168.243.55",
         "UserAgent-8103",
         200,
         6306
        ],
        [
         "2023-05-10T15:36:11.710082Z",
         "192.168.4.248",
         "UserAgent-3761",
         200,
         7085
        ],
        [
         "2023-10-12T16:20:30.710082Z",
         "192.168.9.86",
         "UserAgent-2267",
         500,
         5190
        ],
        [
         "2023-05-30T03:46:36.710082Z",
         "192.168.51.244",
         "UserAgent-6027",
         200,
         6841
        ],
        [
         "2023-05-20T05:01:42.710082Z",
         "192.168.176.16",
         "UserAgent-9929",
         500,
         7449
        ],
        [
         "2023-08-19T12:27:04.710082Z",
         "192.168.24.239",
         "UserAgent-4321",
         404,
         903
        ],
        [
         "2023-07-10T17:24:41.710082Z",
         "192.168.13.7",
         "UserAgent-3511",
         500,
         9050
        ],
        [
         "2023-08-04T14:24:10.710082Z",
         "192.168.231.65",
         "UserAgent-8867",
         500,
         4042
        ],
        [
         "2023-11-14T12:14:54.710082Z",
         "192.168.46.241",
         "UserAgent-2856",
         404,
         8844
        ],
        [
         "2024-01-12T00:16:16.710082Z",
         "192.168.97.225",
         "UserAgent-8763",
         500,
         2194
        ],
        [
         "2023-03-22T11:38:29.710082Z",
         "192.168.139.146",
         "UserAgent-2656",
         404,
         8609
        ],
        [
         "2024-02-28T14:36:53.710082Z",
         "192.168.204.122",
         "UserAgent-4022",
         404,
         4815
        ],
        [
         "2024-02-13T18:47:15.710082Z",
         "192.168.114.95",
         "UserAgent-2261",
         200,
         9800
        ],
        [
         "2023-03-05T14:04:19.710082Z",
         "192.168.125.175",
         "UserAgent-4224",
         404,
         7174
        ],
        [
         "2024-01-30T00:09:47.710082Z",
         "192.168.58.58",
         "UserAgent-7826",
         200,
         1150
        ],
        [
         "2023-10-28T19:10:52.710082Z",
         "192.168.32.54",
         "UserAgent-9573",
         404,
         5265
        ],
        [
         "2023-04-27T03:33:51.710082Z",
         "192.168.163.167",
         "UserAgent-3641",
         200,
         2751
        ],
        [
         "2023-03-04T10:37:25.710082Z",
         "192.168.18.201",
         "UserAgent-1479",
         500,
         4270
        ],
        [
         "2024-01-29T02:36:03.710082Z",
         "192.168.166.4",
         "UserAgent-9396",
         200,
         6693
        ],
        [
         "2023-06-23T07:26:26.710082Z",
         "192.168.253.151",
         "UserAgent-7728",
         200,
         3680
        ],
        [
         "2023-12-20T00:25:09.710082Z",
         "192.168.90.92",
         "UserAgent-9311",
         500,
         7448
        ],
        [
         "2023-06-29T20:38:46.710082Z",
         "192.168.188.231",
         "UserAgent-8705",
         200,
         5110
        ],
        [
         "2023-09-05T04:39:03.710082Z",
         "192.168.220.51",
         "UserAgent-5638",
         500,
         4980
        ],
        [
         "2023-04-29T21:55:13.710082Z",
         "192.168.220.238",
         "UserAgent-2586",
         200,
         711
        ],
        [
         "2023-12-26T18:14:35.710082Z",
         "192.168.114.237",
         "UserAgent-7699",
         200,
         7769
        ],
        [
         "2023-09-10T22:27:07.710082Z",
         "192.168.30.194",
         "UserAgent-8807",
         200,
         7257
        ],
        [
         "2024-01-04T19:28:20.710082Z",
         "192.168.133.84",
         "UserAgent-2795",
         200,
         7515
        ],
        [
         "2023-06-18T07:53:26.710082Z",
         "192.168.135.44",
         "UserAgent-5840",
         200,
         8360
        ],
        [
         "2023-10-13T07:48:53.710082Z",
         "192.168.140.114",
         "UserAgent-8595",
         200,
         2893
        ],
        [
         "2023-05-23T12:03:11.710082Z",
         "192.168.38.121",
         "UserAgent-9531",
         500,
         2150
        ],
        [
         "2023-04-03T12:24:01.710082Z",
         "192.168.240.119",
         "UserAgent-6445",
         200,
         1528
        ],
        [
         "2023-12-14T08:12:16.710082Z",
         "192.168.199.105",
         "UserAgent-6756",
         200,
         6932
        ],
        [
         "2023-09-13T15:06:59.710082Z",
         "192.168.39.58",
         "UserAgent-9546",
         404,
         4288
        ],
        [
         "2023-09-05T06:02:32.710082Z",
         "192.168.63.221",
         "UserAgent-6564",
         500,
         2101
        ],
        [
         "2023-03-09T20:33:20.710082Z",
         "192.168.114.147",
         "UserAgent-3713",
         200,
         1843
        ],
        [
         "2023-03-21T10:02:22.710082Z",
         "192.168.149.66",
         "UserAgent-7356",
         404,
         303
        ],
        [
         "2023-10-12T09:31:46.710082Z",
         "192.168.64.192",
         "UserAgent-7158",
         404,
         8190
        ],
        [
         "2023-09-28T03:36:34.710082Z",
         "192.168.157.178",
         "UserAgent-8007",
         404,
         193
        ],
        [
         "2023-10-01T17:26:54.710082Z",
         "192.168.179.40",
         "UserAgent-3463",
         500,
         4160
        ],
        [
         "2023-03-05T07:52:08.710082Z",
         "192.168.115.63",
         "UserAgent-7174",
         500,
         4663
        ],
        [
         "2023-07-01T04:16:44.710082Z",
         "192.168.154.158",
         "UserAgent-4242",
         200,
         4320
        ],
        [
         "2024-02-01T11:17:55.710082Z",
         "192.168.46.214",
         "UserAgent-4358",
         500,
         7333
        ],
        [
         "2024-02-20T17:01:02.710082Z",
         "192.168.160.17",
         "UserAgent-2928",
         404,
         2703
        ],
        [
         "2023-08-10T19:51:15.710082Z",
         "192.168.55.127",
         "UserAgent-3208",
         404,
         5645
        ],
        [
         "2023-10-25T05:18:48.710082Z",
         "192.168.102.69",
         "UserAgent-3681",
         404,
         5313
        ],
        [
         "2023-04-13T18:00:17.710082Z",
         "192.168.172.0",
         "UserAgent-1063",
         404,
         3609
        ],
        [
         "2023-09-19T17:41:35.710082Z",
         "192.168.195.254",
         "UserAgent-2321",
         500,
         147
        ],
        [
         "2023-07-04T20:48:31.710082Z",
         "192.168.68.181",
         "UserAgent-6420",
         200,
         8432
        ],
        [
         "2023-07-16T18:42:30.710082Z",
         "192.168.29.56",
         "UserAgent-8938",
         404,
         5309
        ],
        [
         "2024-01-11T20:38:26.710082Z",
         "192.168.129.175",
         "UserAgent-7874",
         404,
         943
        ],
        [
         "2023-11-11T02:34:42.710082Z",
         "192.168.97.60",
         "UserAgent-5047",
         200,
         8413
        ],
        [
         "2024-02-11T10:12:10.710082Z",
         "192.168.40.167",
         "UserAgent-4546",
         200,
         4080
        ],
        [
         "2023-07-15T15:23:16.710082Z",
         "192.168.255.140",
         "UserAgent-1017",
         500,
         9351
        ],
        [
         "2023-07-16T16:41:55.710082Z",
         "192.168.192.47",
         "UserAgent-7422",
         200,
         9448
        ],
        [
         "2024-01-03T17:02:02.710082Z",
         "192.168.209.234",
         "UserAgent-6621",
         500,
         7063
        ],
        [
         "2023-04-23T03:20:30.710082Z",
         "192.168.112.40",
         "UserAgent-1273",
         404,
         9614
        ],
        [
         "2023-03-27T21:52:57.710082Z",
         "192.168.5.167",
         "UserAgent-3249",
         404,
         1143
        ],
        [
         "2024-02-03T15:18:05.710082Z",
         "192.168.113.178",
         "UserAgent-3876",
         200,
         8236
        ],
        [
         "2023-08-02T14:07:33.710082Z",
         "192.168.132.51",
         "UserAgent-3091",
         500,
         1429
        ],
        [
         "2024-02-25T14:28:11.710082Z",
         "192.168.3.232",
         "UserAgent-6384",
         404,
         2422
        ],
        [
         "2023-03-11T11:06:47.710082Z",
         "192.168.177.113",
         "UserAgent-9261",
         500,
         2775
        ],
        [
         "2023-11-10T09:38:44.710082Z",
         "192.168.109.74",
         "UserAgent-5748",
         404,
         1086
        ],
        [
         "2023-10-26T13:41:38.710082Z",
         "192.168.244.95",
         "UserAgent-4775",
         404,
         6320
        ],
        [
         "2023-05-28T13:45:55.710082Z",
         "192.168.231.28",
         "UserAgent-7480",
         404,
         9178
        ],
        [
         "2023-07-25T15:53:05.710082Z",
         "192.168.195.145",
         "UserAgent-5274",
         500,
         9504
        ],
        [
         "2023-05-19T07:01:10.710082Z",
         "192.168.38.225",
         "UserAgent-3229",
         200,
         8582
        ],
        [
         "2023-06-04T09:17:25.710082Z",
         "192.168.102.113",
         "UserAgent-6496",
         200,
         4354
        ],
        [
         "2023-03-12T17:41:58.710082Z",
         "192.168.124.140",
         "UserAgent-3475",
         200,
         890
        ],
        [
         "2023-05-15T08:39:15.710082Z",
         "192.168.116.64",
         "UserAgent-2744",
         404,
         3637
        ],
        [
         "2023-06-07T22:01:13.710082Z",
         "192.168.64.179",
         "UserAgent-9041",
         200,
         2277
        ],
        [
         "2024-01-26T22:25:35.710082Z",
         "192.168.92.72",
         "UserAgent-7679",
         404,
         3475
        ],
        [
         "2024-02-16T15:38:05.710082Z",
         "192.168.211.128",
         "UserAgent-6368",
         500,
         7127
        ],
        [
         "2023-04-21T07:14:54.710082Z",
         "192.168.153.156",
         "UserAgent-1879",
         500,
         6997
        ],
        [
         "2023-11-20T23:40:08.710082Z",
         "192.168.103.250",
         "UserAgent-1840",
         404,
         5468
        ],
        [
         "2023-10-14T09:56:09.710082Z",
         "192.168.15.102",
         "UserAgent-2085",
         200,
         1544
        ],
        [
         "2023-03-22T20:36:18.710082Z",
         "192.168.69.64",
         "UserAgent-7571",
         200,
         361
        ],
        [
         "2024-01-04T13:25:12.710082Z",
         "192.168.9.210",
         "UserAgent-2894",
         200,
         1352
        ],
        [
         "2023-03-22T19:30:01.710082Z",
         "192.168.137.66",
         "UserAgent-2067",
         200,
         1321
        ],
        [
         "2023-10-20T04:08:36.710082Z",
         "192.168.29.47",
         "UserAgent-9847",
         500,
         180
        ],
        [
         "2023-11-20T07:30:31.710082Z",
         "192.168.244.87",
         "UserAgent-7204",
         404,
         7664
        ],
        [
         "2023-03-11T07:38:46.710082Z",
         "192.168.84.73",
         "UserAgent-1297",
         500,
         893
        ],
        [
         "2023-09-09T14:14:48.710082Z",
         "192.168.146.195",
         "UserAgent-1549",
         200,
         3426
        ],
        [
         "2023-06-12T02:05:40.710082Z",
         "192.168.231.2",
         "UserAgent-7533",
         500,
         7241
        ],
        [
         "2023-06-10T10:46:43.710082Z",
         "192.168.139.129",
         "UserAgent-9555",
         404,
         4601
        ],
        [
         "2023-04-10T11:20:13.710082Z",
         "192.168.29.215",
         "UserAgent-8760",
         404,
         5278
        ],
        [
         "2023-04-29T09:52:22.710082Z",
         "192.168.242.70",
         "UserAgent-5735",
         404,
         9041
        ],
        [
         "2023-04-07T20:43:04.710082Z",
         "192.168.133.142",
         "UserAgent-7927",
         404,
         6535
        ],
        [
         "2023-12-02T00:04:36.710082Z",
         "192.168.108.47",
         "UserAgent-4139",
         200,
         5241
        ],
        [
         "2024-01-08T16:37:06.710082Z",
         "192.168.247.37",
         "UserAgent-6311",
         200,
         9923
        ],
        [
         "2023-04-15T16:02:49.710082Z",
         "192.168.34.250",
         "UserAgent-2910",
         404,
         321
        ],
        [
         "2023-03-05T00:20:34.710082Z",
         "192.168.43.182",
         "UserAgent-4355",
         500,
         4595
        ],
        [
         "2023-10-19T22:33:58.710082Z",
         "192.168.138.248",
         "UserAgent-8019",
         500,
         7968
        ],
        [
         "2024-02-23T06:52:50.710082Z",
         "192.168.119.30",
         "UserAgent-4079",
         404,
         5928
        ],
        [
         "2024-01-11T04:53:43.710082Z",
         "192.168.134.184",
         "UserAgent-1508",
         500,
         2401
        ],
        [
         "2023-10-08T09:05:21.710082Z",
         "192.168.130.224",
         "UserAgent-1444",
         404,
         5096
        ],
        [
         "2023-05-13T23:31:31.710082Z",
         "192.168.224.121",
         "UserAgent-9318",
         404,
         893
        ],
        [
         "2023-10-17T13:59:14.710082Z",
         "192.168.190.226",
         "UserAgent-8041",
         404,
         7064
        ],
        [
         "2023-12-11T19:11:35.710082Z",
         "192.168.75.95",
         "UserAgent-5206",
         200,
         257
        ],
        [
         "2023-10-04T20:11:02.710082Z",
         "192.168.41.222",
         "UserAgent-6258",
         404,
         202
        ],
        [
         "2023-08-31T15:28:58.710082Z",
         "192.168.130.145",
         "UserAgent-6445",
         500,
         5487
        ],
        [
         "2023-08-17T13:22:39.710082Z",
         "192.168.62.167",
         "UserAgent-3214",
         404,
         6131
        ],
        [
         "2024-02-26T14:04:43.710082Z",
         "192.168.12.147",
         "UserAgent-7189",
         500,
         9342
        ],
        [
         "2024-01-19T18:41:51.710082Z",
         "192.168.34.76",
         "UserAgent-9899",
         404,
         8928
        ],
        [
         "2023-09-30T22:56:28.710082Z",
         "192.168.101.197",
         "UserAgent-5445",
         200,
         9314
        ],
        [
         "2023-07-31T17:47:40.710082Z",
         "192.168.249.50",
         "UserAgent-6797",
         500,
         6582
        ],
        [
         "2024-02-03T18:09:42.710082Z",
         "192.168.55.105",
         "UserAgent-4146",
         200,
         860
        ],
        [
         "2023-03-30T16:28:08.710082Z",
         "192.168.32.187",
         "UserAgent-5262",
         404,
         7151
        ],
        [
         "2023-09-28T07:04:57.710082Z",
         "192.168.97.103",
         "UserAgent-8863",
         200,
         9775
        ],
        [
         "2023-08-21T20:53:51.710082Z",
         "192.168.42.105",
         "UserAgent-8604",
         404,
         8719
        ],
        [
         "2023-08-01T13:57:59.710082Z",
         "192.168.90.165",
         "UserAgent-3503",
         200,
         3334
        ],
        [
         "2023-07-01T00:19:27.710082Z",
         "192.168.83.152",
         "UserAgent-7448",
         500,
         5659
        ],
        [
         "2023-07-08T12:30:06.710082Z",
         "192.168.106.133",
         "UserAgent-5646",
         200,
         8250
        ],
        [
         "2023-11-08T17:56:28.710082Z",
         "192.168.156.55",
         "UserAgent-4649",
         404,
         3166
        ],
        [
         "2023-10-26T20:05:16.710082Z",
         "192.168.127.69",
         "UserAgent-4049",
         200,
         3613
        ],
        [
         "2023-05-01T23:55:53.710082Z",
         "192.168.150.205",
         "UserAgent-7244",
         200,
         538
        ],
        [
         "2023-07-12T02:49:26.710082Z",
         "192.168.10.148",
         "UserAgent-3379",
         200,
         3243
        ],
        [
         "2023-09-12T13:20:47.710082Z",
         "192.168.217.154",
         "UserAgent-5370",
         200,
         7840
        ],
        [
         "2023-08-22T21:14:23.710082Z",
         "192.168.125.67",
         "UserAgent-3067",
         500,
         1588
        ],
        [
         "2023-08-20T07:20:08.710082Z",
         "192.168.151.84",
         "UserAgent-4856",
         500,
         8978
        ],
        [
         "2024-01-04T03:39:07.710082Z",
         "192.168.32.167",
         "UserAgent-2735",
         500,
         3855
        ],
        [
         "2023-06-26T06:53:19.710082Z",
         "192.168.92.15",
         "UserAgent-1541",
         500,
         5746
        ],
        [
         "2023-03-28T04:47:23.710082Z",
         "192.168.148.51",
         "UserAgent-9832",
         500,
         560
        ],
        [
         "2023-11-05T14:01:57.710082Z",
         "192.168.75.221",
         "UserAgent-1378",
         404,
         459
        ],
        [
         "2024-01-16T01:22:40.710082Z",
         "192.168.252.226",
         "UserAgent-4859",
         200,
         4172
        ],
        [
         "2024-02-21T05:44:32.710082Z",
         "192.168.158.158",
         "UserAgent-1899",
         404,
         9125
        ],
        [
         "2023-06-24T06:06:25.710082Z",
         "192.168.241.82",
         "UserAgent-6421",
         200,
         3929
        ],
        [
         "2023-10-30T07:03:14.710082Z",
         "192.168.56.89",
         "UserAgent-7514",
         404,
         6527
        ],
        [
         "2023-10-16T18:59:23.710082Z",
         "192.168.195.158",
         "UserAgent-9477",
         200,
         8997
        ],
        [
         "2023-04-14T05:10:51.710082Z",
         "192.168.16.22",
         "UserAgent-7815",
         200,
         9640
        ],
        [
         "2023-04-11T00:17:20.710082Z",
         "192.168.240.165",
         "UserAgent-4846",
         500,
         8037
        ],
        [
         "2023-06-24T12:40:33.710082Z",
         "192.168.102.61",
         "UserAgent-1804",
         404,
         8028
        ],
        [
         "2023-07-20T17:29:06.710082Z",
         "192.168.158.241",
         "UserAgent-9772",
         500,
         7264
        ],
        [
         "2023-03-05T11:26:56.710082Z",
         "192.168.176.53",
         "UserAgent-4333",
         500,
         8277
        ],
        [
         "2023-10-09T05:23:14.710082Z",
         "192.168.130.12",
         "UserAgent-2248",
         404,
         7302
        ],
        [
         "2023-06-12T02:15:49.710082Z",
         "192.168.172.127",
         "UserAgent-1010",
         500,
         6631
        ],
        [
         "2023-11-12T07:33:27.710082Z",
         "192.168.224.222",
         "UserAgent-5990",
         500,
         8561
        ],
        [
         "2023-08-18T13:36:22.710082Z",
         "192.168.238.8",
         "UserAgent-7802",
         404,
         547
        ],
        [
         "2024-02-14T06:45:28.710082Z",
         "192.168.165.158",
         "UserAgent-6899",
         200,
         4130
        ],
        [
         "2023-04-28T20:15:17.710082Z",
         "192.168.140.208",
         "UserAgent-5915",
         404,
         9622
        ],
        [
         "2023-07-25T15:16:05.710082Z",
         "192.168.167.65",
         "UserAgent-9251",
         404,
         6212
        ],
        [
         "2023-11-08T20:36:38.710082Z",
         "192.168.4.159",
         "UserAgent-6510",
         200,
         9381
        ],
        [
         "2024-02-20T22:05:06.710082Z",
         "192.168.100.203",
         "UserAgent-8513",
         500,
         7274
        ],
        [
         "2024-01-13T18:13:34.710082Z",
         "192.168.163.221",
         "UserAgent-1752",
         200,
         2911
        ],
        [
         "2023-09-20T17:31:55.710082Z",
         "192.168.221.132",
         "UserAgent-8507",
         500,
         4068
        ],
        [
         "2023-03-10T08:07:28.710082Z",
         "192.168.157.39",
         "UserAgent-6848",
         404,
         5604
        ],
        [
         "2023-06-11T14:26:02.710082Z",
         "192.168.83.42",
         "UserAgent-3266",
         404,
         4374
        ],
        [
         "2023-06-18T10:31:07.710082Z",
         "192.168.196.192",
         "UserAgent-2887",
         500,
         2006
        ],
        [
         "2023-10-19T14:21:26.710082Z",
         "192.168.198.0",
         "UserAgent-9437",
         500,
         9520
        ],
        [
         "2023-11-23T01:24:17.710082Z",
         "192.168.40.109",
         "UserAgent-9459",
         200,
         8703
        ],
        [
         "2023-11-28T23:14:36.710082Z",
         "192.168.49.120",
         "UserAgent-9770",
         200,
         5455
        ],
        [
         "2023-12-21T10:28:31.710082Z",
         "192.168.235.165",
         "UserAgent-8649",
         500,
         8913
        ],
        [
         "2023-08-25T22:21:09.710082Z",
         "192.168.32.36",
         "UserAgent-3989",
         404,
         2138
        ],
        [
         "2023-07-29T16:24:53.710082Z",
         "192.168.76.84",
         "UserAgent-7135",
         500,
         7857
        ],
        [
         "2023-06-22T22:22:18.710082Z",
         "192.168.182.21",
         "UserAgent-6987",
         200,
         2991
        ],
        [
         "2023-12-04T16:40:56.710082Z",
         "192.168.112.225",
         "UserAgent-7683",
         500,
         4386
        ],
        [
         "2024-01-04T01:23:30.710082Z",
         "192.168.90.207",
         "UserAgent-4212",
         200,
         6327
        ],
        [
         "2023-07-04T22:10:16.710082Z",
         "192.168.205.200",
         "UserAgent-4789",
         500,
         7874
        ],
        [
         "2023-11-30T19:45:24.710082Z",
         "192.168.252.254",
         "UserAgent-5292",
         200,
         1221
        ],
        [
         "2023-10-04T06:45:16.710082Z",
         "192.168.93.132",
         "UserAgent-5848",
         500,
         5109
        ],
        [
         "2023-11-28T02:24:53.710082Z",
         "192.168.240.129",
         "UserAgent-4264",
         500,
         7672
        ],
        [
         "2023-05-14T10:44:59.710082Z",
         "192.168.83.191",
         "UserAgent-2944",
         404,
         4081
        ],
        [
         "2023-03-28T19:42:53.710082Z",
         "192.168.133.1",
         "UserAgent-1210",
         200,
         6241
        ],
        [
         "2023-11-28T19:55:46.710082Z",
         "192.168.20.158",
         "UserAgent-6880",
         200,
         3672
        ],
        [
         "2023-03-25T13:40:19.710082Z",
         "192.168.231.29",
         "UserAgent-1066",
         200,
         2966
        ],
        [
         "2023-04-22T17:13:53.710082Z",
         "192.168.190.86",
         "UserAgent-7206",
         404,
         9913
        ],
        [
         "2023-03-27T12:49:23.710082Z",
         "192.168.213.112",
         "UserAgent-3606",
         500,
         4900
        ],
        [
         "2023-03-05T08:06:44.710082Z",
         "192.168.148.60",
         "UserAgent-3258",
         500,
         6296
        ],
        [
         "2023-06-06T13:48:46.710082Z",
         "192.168.130.76",
         "UserAgent-6831",
         200,
         8248
        ],
        [
         "2023-07-04T03:50:57.710082Z",
         "192.168.3.193",
         "UserAgent-1149",
         500,
         2030
        ],
        [
         "2023-03-24T10:10:42.710082Z",
         "192.168.53.138",
         "UserAgent-6427",
         200,
         8847
        ],
        [
         "2024-01-13T03:04:17.710082Z",
         "192.168.8.165",
         "UserAgent-4932",
         200,
         3472
        ],
        [
         "2024-01-16T17:07:01.710082Z",
         "192.168.55.139",
         "UserAgent-2515",
         200,
         9602
        ],
        [
         "2023-07-31T23:13:38.710082Z",
         "192.168.244.252",
         "UserAgent-6277",
         404,
         8777
        ],
        [
         "2023-04-12T17:12:27.710082Z",
         "192.168.117.101",
         "UserAgent-5363",
         500,
         1065
        ],
        [
         "2024-02-22T19:34:27.710082Z",
         "192.168.101.108",
         "UserAgent-7309",
         404,
         5418
        ],
        [
         "2023-03-07T00:22:38.710082Z",
         "192.168.239.195",
         "UserAgent-4465",
         200,
         4872
        ],
        [
         "2024-02-12T05:58:44.710082Z",
         "192.168.37.61",
         "UserAgent-2223",
         200,
         9383
        ],
        [
         "2023-11-27T04:42:01.710082Z",
         "192.168.178.73",
         "UserAgent-2170",
         404,
         1487
        ],
        [
         "2023-03-04T23:22:56.710082Z",
         "192.168.255.42",
         "UserAgent-3898",
         500,
         9627
        ],
        [
         "2023-09-05T21:11:45.710082Z",
         "192.168.61.55",
         "UserAgent-4936",
         404,
         341
        ],
        [
         "2024-01-29T00:54:19.710082Z",
         "192.168.0.131",
         "UserAgent-2599",
         200,
         4310
        ],
        [
         "2023-03-20T01:01:09.710082Z",
         "192.168.39.72",
         "UserAgent-1992",
         500,
         1543
        ],
        [
         "2023-03-11T19:53:32.710082Z",
         "192.168.26.5",
         "UserAgent-9990",
         500,
         5559
        ],
        [
         "2023-06-22T01:33:31.710082Z",
         "192.168.133.206",
         "UserAgent-6623",
         404,
         1604
        ],
        [
         "2023-09-01T22:15:26.710082Z",
         "192.168.98.35",
         "UserAgent-6165",
         404,
         7003
        ],
        [
         "2023-03-25T22:27:14.710082Z",
         "192.168.171.83",
         "UserAgent-4229",
         500,
         4011
        ],
        [
         "2023-07-31T16:30:57.710082Z",
         "192.168.8.231",
         "UserAgent-5582",
         500,
         7547
        ],
        [
         "2024-01-02T19:01:55.710082Z",
         "192.168.47.225",
         "UserAgent-3121",
         500,
         5333
        ],
        [
         "2023-10-29T13:34:48.710082Z",
         "192.168.233.2",
         "UserAgent-4808",
         500,
         8385
        ],
        [
         "2023-07-17T09:50:36.710082Z",
         "192.168.15.136",
         "UserAgent-9483",
         200,
         6763
        ],
        [
         "2023-11-16T13:35:08.710082Z",
         "192.168.90.252",
         "UserAgent-8247",
         500,
         7346
        ],
        [
         "2023-06-23T00:24:30.710082Z",
         "192.168.22.104",
         "UserAgent-8951",
         404,
         2663
        ],
        [
         "2023-12-28T07:47:22.710082Z",
         "192.168.12.107",
         "UserAgent-3983",
         404,
         4708
        ],
        [
         "2023-07-06T09:18:39.710082Z",
         "192.168.186.58",
         "UserAgent-4414",
         500,
         1221
        ],
        [
         "2023-07-10T12:06:35.710082Z",
         "192.168.153.225",
         "UserAgent-1659",
         200,
         5585
        ],
        [
         "2023-03-15T01:33:36.710082Z",
         "192.168.128.149",
         "UserAgent-4074",
         500,
         5280
        ],
        [
         "2023-03-26T09:06:10.710082Z",
         "192.168.44.234",
         "UserAgent-8040",
         404,
         6436
        ],
        [
         "2023-11-18T18:27:27.710082Z",
         "192.168.224.99",
         "UserAgent-2218",
         500,
         8284
        ],
        [
         "2023-07-22T13:44:13.710082Z",
         "192.168.239.24",
         "UserAgent-6243",
         404,
         4904
        ],
        [
         "2023-08-21T02:02:50.710082Z",
         "192.168.218.246",
         "UserAgent-6046",
         404,
         721
        ],
        [
         "2024-02-28T00:25:03.710082Z",
         "192.168.65.82",
         "UserAgent-2418",
         500,
         2025
        ],
        [
         "2023-05-23T10:25:48.710082Z",
         "192.168.80.107",
         "UserAgent-6098",
         200,
         5973
        ],
        [
         "2023-11-19T12:58:56.710082Z",
         "192.168.225.139",
         "UserAgent-2995",
         404,
         7246
        ],
        [
         "2023-08-21T15:16:29.710082Z",
         "192.168.217.64",
         "UserAgent-4976",
         500,
         2815
        ],
        [
         "2023-11-24T17:44:41.710082Z",
         "192.168.143.84",
         "UserAgent-9489",
         200,
         2648
        ],
        [
         "2024-02-03T07:01:45.710082Z",
         "192.168.154.20",
         "UserAgent-1214",
         200,
         5243
        ],
        [
         "2023-08-25T01:34:19.710082Z",
         "192.168.5.237",
         "UserAgent-2697",
         500,
         6135
        ],
        [
         "2024-01-03T19:18:37.710082Z",
         "192.168.144.161",
         "UserAgent-5402",
         200,
         2177
        ],
        [
         "2024-02-12T21:39:19.710082Z",
         "192.168.197.94",
         "UserAgent-8120",
         404,
         6732
        ],
        [
         "2023-08-01T03:05:49.710082Z",
         "192.168.176.59",
         "UserAgent-8999",
         500,
         7103
        ],
        [
         "2023-06-02T05:51:55.710082Z",
         "192.168.60.224",
         "UserAgent-9975",
         200,
         9295
        ],
        [
         "2023-12-18T10:40:24.710082Z",
         "192.168.163.28",
         "UserAgent-2440",
         200,
         7822
        ],
        [
         "2023-12-29T10:53:12.710082Z",
         "192.168.232.37",
         "UserAgent-6390",
         404,
         8802
        ],
        [
         "2023-08-10T08:45:20.710082Z",
         "192.168.34.23",
         "UserAgent-5686",
         404,
         8560
        ],
        [
         "2023-06-02T15:32:04.710082Z",
         "192.168.218.212",
         "UserAgent-8347",
         500,
         8619
        ],
        [
         "2023-11-15T06:32:17.710082Z",
         "192.168.253.218",
         "UserAgent-4125",
         500,
         1648
        ],
        [
         "2023-11-10T23:19:42.710082Z",
         "192.168.74.44",
         "UserAgent-3883",
         500,
         4277
        ],
        [
         "2023-09-11T11:34:56.710082Z",
         "192.168.44.202",
         "UserAgent-3806",
         500,
         4337
        ],
        [
         "2023-03-25T14:46:23.710082Z",
         "192.168.164.176",
         "UserAgent-3640",
         404,
         1851
        ],
        [
         "2023-11-29T09:36:14.710082Z",
         "192.168.95.73",
         "UserAgent-6434",
         500,
         4177
        ],
        [
         "2023-07-15T04:32:54.710082Z",
         "192.168.117.142",
         "UserAgent-9310",
         500,
         5355
        ],
        [
         "2023-11-15T04:40:00.710082Z",
         "192.168.59.81",
         "UserAgent-3459",
         500,
         3182
        ]
       ],
       "datasetInfos": [],
       "dbfsResultPath": null,
       "isJsonSchema": true,
       "metadata": {},
       "overflow": false,
       "plotOptions": {
        "customPlotOptions": {},
        "displayType": "table",
        "pivotAggregation": null,
        "pivotColumns": null,
        "xColumns": null,
        "yColumns": null
       },
       "removedWidgets": [],
       "schema": [
        {
         "metadata": "{}",
         "name": "Timestamp",
         "type": "\"timestamp\""
        },
        {
         "metadata": "{}",
         "name": "IP Address",
         "type": "\"string\""
        },
        {
         "metadata": "{}",
         "name": "User Agent",
         "type": "\"string\""
        },
        {
         "metadata": "{}",
         "name": "HTTP Status",
         "type": "\"integer\""
        },
        {
         "metadata": "{}",
         "name": "Bytes Sent",
         "type": "\"integer\""
        }
       ],
       "type": "table"
      }
     },
     "output_type": "display_data"
    }
   ],
   "source": [
    "display(df)"
   ]
  },
  {
   "cell_type": "code",
   "execution_count": 0,
   "metadata": {
    "application/vnd.databricks.v1+cell": {
     "cellMetadata": {
      "byteLimit": 2048000,
      "rowLimit": 10000
     },
     "inputWidgets": {},
     "nuid": "8ac1d8ec-37de-466f-9cd4-6b11105c7f81",
     "showTitle": false,
     "title": ""
    }
   },
   "outputs": [],
   "source": [
    "# Handling missing values"
   ]
  },
  {
   "cell_type": "code",
   "execution_count": 0,
   "metadata": {
    "application/vnd.databricks.v1+cell": {
     "cellMetadata": {
      "byteLimit": 2048000,
      "rowLimit": 10000
     },
     "inputWidgets": {},
     "nuid": "dbba52c1-67d8-404b-8fef-fb7bb51fe07c",
     "showTitle": false,
     "title": ""
    }
   },
   "outputs": [],
   "source": [
    "df = df.na.drop()"
   ]
  },
  {
   "cell_type": "code",
   "execution_count": 0,
   "metadata": {
    "application/vnd.databricks.v1+cell": {
     "cellMetadata": {
      "byteLimit": 2048000,
      "rowLimit": 10000
     },
     "inputWidgets": {},
     "nuid": "0192c632-7e55-4487-8bb9-e1277c1455b8",
     "showTitle": false,
     "title": ""
    }
   },
   "outputs": [],
   "source": [
    "# Let's compute basic statistics for numerical columns"
   ]
  },
  {
   "cell_type": "code",
   "execution_count": 0,
   "metadata": {
    "application/vnd.databricks.v1+cell": {
     "cellMetadata": {
      "byteLimit": 2048000,
      "rowLimit": 10000
     },
     "inputWidgets": {},
     "nuid": "3e02964b-5b4a-48a1-a864-d9ecbe296505",
     "showTitle": false,
     "title": ""
    }
   },
   "outputs": [
    {
     "output_type": "stream",
     "name": "stdout",
     "output_type": "stream",
     "text": [
      "+-------+-------------+--------------+----------------+-----------------+\n|summary|   IP Address|    User Agent|     HTTP Status|       Bytes Sent|\n+-------+-------------+--------------+----------------+-----------------+\n|  count|          500|           500|             500|              500|\n|   mean|         NULL|          NULL|         361.952|         5218.944|\n| stddev|         NULL|          NULL|125.575858701333|2886.614195192661|\n|    min|192.168.0.131|UserAgent-1010|             200|              114|\n|    max|192.168.98.35|UserAgent-9990|             500|             9990|\n+-------+-------------+--------------+----------------+-----------------+\n\n"
     ]
    }
   ],
   "source": [
    "df.describe().show()"
   ]
  },
  {
   "cell_type": "code",
   "execution_count": 0,
   "metadata": {
    "application/vnd.databricks.v1+cell": {
     "cellMetadata": {
      "byteLimit": 2048000,
      "rowLimit": 10000
     },
     "inputWidgets": {},
     "nuid": "a257d160-ace4-48a0-9b57-a9583f15370b",
     "showTitle": false,
     "title": ""
    }
   },
   "outputs": [],
   "source": [
    "# Finding error rates"
   ]
  },
  {
   "cell_type": "code",
   "execution_count": 0,
   "metadata": {
    "application/vnd.databricks.v1+cell": {
     "cellMetadata": {
      "byteLimit": 2048000,
      "rowLimit": 10000
     },
     "inputWidgets": {},
     "nuid": "62dffdcb-9d2b-4294-82c3-1fe94edf67f3",
     "showTitle": false,
     "title": ""
    }
   },
   "outputs": [],
   "source": [
    "total_records = df.count()"
   ]
  },
  {
   "cell_type": "code",
   "execution_count": 0,
   "metadata": {
    "application/vnd.databricks.v1+cell": {
     "cellMetadata": {
      "byteLimit": 2048000,
      "rowLimit": 10000
     },
     "inputWidgets": {},
     "nuid": "c0e93e1b-cdf7-4cac-9545-6b2e3dbc3155",
     "showTitle": false,
     "title": ""
    }
   },
   "outputs": [],
   "source": [
    "from pyspark.sql.functions import col\n",
    "error_records = df.filter((col('HTTP Status') == 404) | (col('HTTP Status') == 500)).count()"
   ]
  },
  {
   "cell_type": "code",
   "execution_count": 0,
   "metadata": {
    "application/vnd.databricks.v1+cell": {
     "cellMetadata": {
      "byteLimit": 2048000,
      "rowLimit": 10000
     },
     "inputWidgets": {},
     "nuid": "380bb378-a260-46c2-ade4-2afe4ff785d9",
     "showTitle": false,
     "title": ""
    }
   },
   "outputs": [
    {
     "output_type": "execute_result",
     "data": {
      "text/plain": [
       "64.8"
      ]
     },
     "execution_count": 49,
     "metadata": {},
     "output_type": "execute_result"
    }
   ],
   "source": [
    "error_rate = (error_records / total_records) * 100\n",
    "error_rate"
   ]
  },
  {
   "cell_type": "code",
   "execution_count": 0,
   "metadata": {
    "application/vnd.databricks.v1+cell": {
     "cellMetadata": {
      "byteLimit": 2048000,
      "rowLimit": 10000
     },
     "inputWidgets": {},
     "nuid": "b6ccc462-e0b7-49da-8214-48bfbaffe715",
     "showTitle": false,
     "title": ""
    }
   },
   "outputs": [],
   "source": [
    "# Analyzing trends\n",
    "# We can analyze trends by grouping data by a certain time interval"
   ]
  },
  {
   "cell_type": "code",
   "execution_count": 0,
   "metadata": {
    "application/vnd.databricks.v1+cell": {
     "cellMetadata": {
      "byteLimit": 2048000,
      "rowLimit": 10000
     },
     "inputWidgets": {},
     "nuid": "901f5bc6-7d75-49c3-b645-1e62d91952aa",
     "showTitle": false,
     "title": ""
    }
   },
   "outputs": [],
   "source": [
    "trends = df.groupBy(df.Timestamp.cast(\"date\").alias(\"Date\"), \"HTTP Status\").count().orderBy(\"Date\")"
   ]
  },
  {
   "cell_type": "code",
   "execution_count": 0,
   "metadata": {
    "application/vnd.databricks.v1+cell": {
     "cellMetadata": {
      "byteLimit": 2048000,
      "rowLimit": 10000
     },
     "inputWidgets": {},
     "nuid": "184257d4-6c96-4f4a-9a01-cbc03c580375",
     "showTitle": false,
     "title": ""
    }
   },
   "outputs": [
    {
     "output_type": "stream",
     "name": "stdout",
     "output_type": "stream",
     "text": [
      "+----------+-----------+-----+\n|      Date|HTTP Status|count|\n+----------+-----------+-----+\n|2023-02-28|        404|    1|\n|2023-03-02|        404|    1|\n|2023-03-02|        200|    1|\n|2023-03-04|        500|    3|\n|2023-03-04|        404|    1|\n|2023-03-05|        404|    1|\n|2023-03-05|        500|    4|\n|2023-03-05|        200|    1|\n|2023-03-07|        200|    2|\n|2023-03-09|        200|    1|\n|2023-03-10|        404|    2|\n|2023-03-11|        500|    3|\n|2023-03-12|        200|    2|\n|2023-03-14|        200|    1|\n|2023-03-14|        500|    1|\n|2023-03-15|        500|    1|\n|2023-03-16|        200|    1|\n|2023-03-17|        200|    1|\n|2023-03-17|        404|    1|\n|2023-03-18|        404|    1|\n+----------+-----------+-----+\nonly showing top 20 rows\n\n"
     ]
    }
   ],
   "source": [
    "trends.show()"
   ]
  },
  {
   "cell_type": "code",
   "execution_count": 0,
   "metadata": {
    "application/vnd.databricks.v1+cell": {
     "cellMetadata": {
      "byteLimit": 2048000,
      "rowLimit": 10000
     },
     "inputWidgets": {},
     "nuid": "7a6d3d74-5777-4b80-ad98-bbacdafd74a9",
     "showTitle": false,
     "title": ""
    }
   },
   "outputs": [],
   "source": [
    "ip_trends = df.groupBy(df.Timestamp.cast(\"date\").alias(\"Date\"), \"IP Address\").count().orderBy(\"Date\")"
   ]
  },
  {
   "cell_type": "code",
   "execution_count": 0,
   "metadata": {
    "application/vnd.databricks.v1+cell": {
     "cellMetadata": {
      "byteLimit": 2048000,
      "rowLimit": 10000
     },
     "inputWidgets": {},
     "nuid": "8d271903-891a-4898-a8df-bc711f17a3b8",
     "showTitle": false,
     "title": ""
    }
   },
   "outputs": [
    {
     "output_type": "stream",
     "name": "stdout",
     "output_type": "stream",
     "text": [
      "+----------+---------------+-----+\n|      Date|     IP Address|count|\n+----------+---------------+-----+\n|2023-02-28| 192.168.26.135|    1|\n|2023-03-02| 192.168.203.85|    1|\n|2023-03-02|192.168.248.143|    1|\n|2023-03-04| 192.168.167.93|    1|\n|2023-03-04| 192.168.255.42|    1|\n|2023-03-04| 192.168.18.201|    1|\n|2023-03-04|   192.168.89.0|    1|\n|2023-03-05| 192.168.148.60|    1|\n|2023-03-05|192.168.125.175|    1|\n|2023-03-05| 192.168.43.182|    1|\n|2023-03-05| 192.168.115.63|    1|\n|2023-03-05| 192.168.31.163|    1|\n|2023-03-05| 192.168.176.53|    1|\n|2023-03-07| 192.168.234.44|    1|\n|2023-03-07|192.168.239.195|    1|\n|2023-03-09|192.168.114.147|    1|\n|2023-03-10|  192.168.8.109|    1|\n|2023-03-10| 192.168.157.39|    1|\n|2023-03-11|   192.168.26.5|    1|\n|2023-03-11|192.168.177.113|    1|\n+----------+---------------+-----+\nonly showing top 20 rows\n\n"
     ]
    }
   ],
   "source": [
    "# Trend of Requests from IP Addresses over Time\n",
    "ip_trends.show()"
   ]
  },
  {
   "cell_type": "code",
   "execution_count": 0,
   "metadata": {
    "application/vnd.databricks.v1+cell": {
     "cellMetadata": {},
     "inputWidgets": {},
     "nuid": "624022c6-69c2-442f-b365-30a167eb5349",
     "showTitle": false,
     "title": ""
    }
   },
   "outputs": [],
   "source": []
  }
 ],
 "metadata": {
  "application/vnd.databricks.v1+notebook": {
   "dashboards": [],
   "language": "python",
   "notebookMetadata": {
    "pythonIndentUnit": 4
   },
   "notebookName": "project1",
   "widgets": {}
  }
 },
 "nbformat": 4,
 "nbformat_minor": 0
}
