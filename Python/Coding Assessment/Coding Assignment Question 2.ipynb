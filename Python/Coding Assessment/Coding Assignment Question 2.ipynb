{
 "cells": [
  {
   "cell_type": "code",
   "execution_count": 3,
   "id": "03730dfd",
   "metadata": {},
   "outputs": [
    {
     "name": "stdout",
     "output_type": "stream",
     "text": [
      "Sum of 3 and 7: 10\n"
     ]
    }
   ],
   "source": [
    "# Lambda Function\n",
    "add_numbers=lambda x, y:x + y\n",
    "\n",
    "# Using the lambda function\n",
    "result=add_numbers(3, 7)\n",
    "print(\"Sum of 3 and 7:\",result)\n"
   ]
  },
  {
   "cell_type": "code",
   "execution_count": 5,
   "id": "de54e59e",
   "metadata": {},
   "outputs": [
    {
     "name": "stdout",
     "output_type": "stream",
     "text": [
      "Python Dictionary:\n",
      "{'name': 'Jeevan', 'age': 22, 'city': 'Vizag'}\n",
      "Extract name only:\n",
      "Jeevan\n"
     ]
    }
   ],
   "source": [
    "import json\n",
    "\n",
    "json_string='{\"name\":\"Jeevan\",\"age\":22,\"city\":\"Vizag\"}'\n",
    "data_dict=json.loads(json_string)\n",
    "print(\"Python Dictionary:\")\n",
    "print(data_dict)\n",
    "print(\"Extract name only:\")\n",
    "print(data_dict[\"name\"])"
   ]
  },
  {
   "cell_type": "code",
   "execution_count": null,
   "id": "fb363f7d",
   "metadata": {},
   "outputs": [],
   "source": []
  }
 ],
 "metadata": {
  "kernelspec": {
   "display_name": "Python 3 (ipykernel)",
   "language": "python",
   "name": "python3"
  },
  "language_info": {
   "codemirror_mode": {
    "name": "ipython",
    "version": 3
   },
   "file_extension": ".py",
   "mimetype": "text/x-python",
   "name": "python",
   "nbconvert_exporter": "python",
   "pygments_lexer": "ipython3",
   "version": "3.9.12"
  }
 },
 "nbformat": 4,
 "nbformat_minor": 5
}
